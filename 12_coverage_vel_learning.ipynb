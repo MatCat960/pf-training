{
  "cells": [
    {
      "cell_type": "markdown",
      "metadata": {
        "id": "view-in-github",
        "colab_type": "text"
      },
      "source": [
        "<a href=\"https://colab.research.google.com/github/MatCat960/pf-training/blob/main/12_coverage_vel_learning.ipynb\" target=\"_parent\"><img src=\"https://colab.research.google.com/assets/colab-badge.svg\" alt=\"Open In Colab\"/></a>"
      ]
    },
    {
      "cell_type": "markdown",
      "metadata": {
        "id": "4mAAf6n8RKip"
      },
      "source": [
        "# Training a Neural Network to perform distributed Coverage"
      ]
    },
    {
      "cell_type": "code",
      "execution_count": 55,
      "metadata": {
        "id": "Yk7wMJP1FG5X"
      },
      "outputs": [],
      "source": [
        "import torch\n",
        "from torch import nn\n",
        "import torch.nn.functional as F\n",
        "import matplotlib.pyplot as plt\n",
        "import numpy as np\n",
        "import math\n",
        "\n",
        "from pathlib import Path\n",
        "from copy import deepcopy as dc"
      ]
    },
    {
      "cell_type": "code",
      "execution_count": 56,
      "metadata": {
        "colab": {
          "base_uri": "https://localhost:8080/"
        },
        "id": "0BkQOvegm_vc",
        "outputId": "05d6a81f-af90-4fd9-bf60-a0c5e579cd7e"
      },
      "outputs": [
        {
          "output_type": "stream",
          "name": "stdout",
          "text": [
            "Using device: cuda\n"
          ]
        }
      ],
      "source": [
        "# Setup device agnostic code\n",
        "device = 'cuda' if torch.cuda.is_available() else 'cpu'\n",
        "\n",
        "print(f\"Using device: {device}\")"
      ]
    },
    {
      "cell_type": "code",
      "execution_count": 57,
      "metadata": {
        "colab": {
          "base_uri": "https://localhost:8080/"
        },
        "id": "i4n22Qc7jcos",
        "outputId": "adffa2d8-9787-44c7-f5db-ff762c3842e1"
      },
      "outputs": [
        {
          "output_type": "stream",
          "name": "stdout",
          "text": [
            "Drive already mounted at /content/drive; to attempt to forcibly remount, call drive.mount(\"/content/drive\", force_remount=True).\n"
          ]
        }
      ],
      "source": [
        "from google.colab import drive\n",
        "drive.mount('/content/drive')"
      ]
    },
    {
      "cell_type": "code",
      "execution_count": 58,
      "metadata": {
        "id": "DlGZQeSicVds"
      },
      "outputs": [],
      "source": [
        "path = Path(\"/content/drive/MyDrive/Colab Notebooks/PyTorch tutorial/coverage_centralized_vel\").glob('**/*')\n",
        "files = [x for x in path if x.is_file()]"
      ]
    },
    {
      "cell_type": "code",
      "execution_count": 59,
      "metadata": {
        "colab": {
          "base_uri": "https://localhost:8080/"
        },
        "id": "Kd-7nUFW3Wmi",
        "outputId": "a35e0bf6-0786-40ea-de33-a579a888ab51"
      },
      "outputs": [
        {
          "output_type": "execute_result",
          "data": {
            "text/plain": [
              "25"
            ]
          },
          "metadata": {},
          "execution_count": 59
        }
      ],
      "source": [
        "len(files)"
      ]
    },
    {
      "cell_type": "code",
      "execution_count": 60,
      "metadata": {
        "id": "OEu4NKbsgvAl"
      },
      "outputs": [],
      "source": [
        "ROBOTS_NUM = 6\n",
        "lookback = 7\n",
        "AREA_W = 30.0\n",
        "AREA_H = 30.0\n",
        "GRID_STEPS = 64\n",
        "ROBOT_RANGE = 15.0\n",
        "ROBOT_FOV = 120.0"
      ]
    },
    {
      "cell_type": "markdown",
      "metadata": {
        "id": "olezhXsuZ2kK"
      },
      "source": [
        "## Utility Functions"
      ]
    },
    {
      "cell_type": "code",
      "execution_count": 61,
      "metadata": {
        "id": "UvkdGnEgm1lu"
      },
      "outputs": [],
      "source": [
        "def in_fov(robot, target, fov, range):\n",
        "  fov_rad = fov * math.pi / 180.0\n",
        "  xr = robot[0]\n",
        "  yr = robot[1]\n",
        "  phi = robot[2]\n",
        "  dx = target[0] - xr\n",
        "  dy = target[1] - yr\n",
        "  dist = math.sqrt(dx**2 + dy**2)\n",
        "  if dist > range:\n",
        "    return 0\n",
        "\n",
        "  xrel = dx * math.cos(phi) + dy * math.sin(phi)\n",
        "  yrel = -dy * math.sin(phi) + dy * math.cos(phi)\n",
        "  angle = abs(math.atan2(yrel, xrel))\n",
        "  if (angle <= fov_rad) and (xrel >= 0.0):\n",
        "    return 1\n",
        "  else:\n",
        "    return 0"
      ]
    },
    {
      "cell_type": "code",
      "execution_count": 62,
      "metadata": {
        "id": "i5BdD78MDY7B"
      },
      "outputs": [],
      "source": [
        "def gauss_pdf(x, y, means, covs):\n",
        "  \"\"\"\n",
        "  Calculate the probability in the cell (x,y)\n",
        "\n",
        "  Args:\n",
        "    x (float) : x coord of the considered point\n",
        "    y (float) : y coord of the considered point\n",
        "    means (list(np.array)) : list of mean points\n",
        "    covs (list(np.array)) : list of covariance matrices\n",
        "  \"\"\"\n",
        "\n",
        "  prob = 0.0\n",
        "  for i in range(len(means)):\n",
        "    m = means[i]\n",
        "    cov = covs[i]\n",
        "    exp = -0.5 * np.sum"
      ]
    },
    {
      "cell_type": "code",
      "execution_count": 63,
      "metadata": {
        "id": "LWYZVbxbE2Eh"
      },
      "outputs": [],
      "source": [
        "# X, Y : meshgrid\n",
        "def multigauss_pdf(X, Y, means, sigmas):\n",
        "  # Flatten the meshgrid coordinates\n",
        "  points = np.column_stack([X.flatten(), Y.flatten()])\n",
        "\n",
        "  # Number of components in the mixture model\n",
        "  num_components = len(means)\n",
        "\n",
        "\n",
        "  # Initialize the probabilities\n",
        "  probabilities = np.zeros_like(X)\n",
        "\n",
        "  # Calculate the probability for each component\n",
        "  for i in range(num_components):\n",
        "      mean = means[i]\n",
        "      covariance = sigmas[i]\n",
        "\n",
        "      # Calculate the multivariate Gaussian probability\n",
        "      exponent = -0.5 * np.sum((points - mean) @ np.linalg.inv(covariance) * (points - mean), axis=1)\n",
        "      coefficient = 1 / np.sqrt((2 * np.pi) ** 2 * np.linalg.det(covariance))\n",
        "      component_prob = coefficient * np.exp(exponent)\n",
        "\n",
        "      # Add the component probability weighted by its weight\n",
        "      probabilities += component_prob.reshape(X.shape)\n",
        "\n",
        "  return probabilities"
      ]
    },
    {
      "cell_type": "code",
      "execution_count": 64,
      "metadata": {
        "id": "LsjwmGcbT41u"
      },
      "outputs": [],
      "source": [
        "def plot_fov(fov_deg, radius, ax):\n",
        "  # fig = plt.figure(figsize=(6,6))\n",
        "  # plt.scatter(neighs[:, 0], neighs[:, 1], marker='*')\n",
        "\n",
        "  x1 = np.array([0.0, 0.0, 0.0])\n",
        "  fov = fov_deg * math.pi / 180\n",
        "  arc_theta = np.arange(-0.5*fov, 0.5*fov, 0.01*math.pi)\n",
        "  th = np.arange(fov/2, 2*math.pi+fov/2, 0.01*math.pi)\n",
        "\n",
        "  # FOV\n",
        "  xfov = radius * np.cos(arc_theta)\n",
        "  xfov = np.append(x1[0], xfov)\n",
        "  xfov = np.append(xfov, x1[0])\n",
        "  yfov = radius * np.sin(arc_theta)\n",
        "  yfov = np.append(x1[1], yfov)\n",
        "  yfov = np.append(yfov, x1[1])\n",
        "  ax.plot(xfov, yfov)"
      ]
    },
    {
      "cell_type": "code",
      "execution_count": 65,
      "metadata": {
        "id": "2PIvxb1CkxU0"
      },
      "outputs": [],
      "source": [
        "def generate_sequence_tensor(original_tensor, sequence_length=5):\n",
        "    num_samples, cols = original_tensor.shape\n",
        "    sequence_tensor = torch.zeros(num_samples, sequence_length, cols)\n",
        "\n",
        "    # sequence_tensor[:, 0, :, :, :] = original_tensor.roll(0, dims=0)\n",
        "    for i in range(0, sequence_length):\n",
        "        sequence_tensor[:, i, :] = original_tensor.roll(-i, dims=0)\n",
        "\n",
        "    return sequence_tensor"
      ]
    },
    {
      "cell_type": "code",
      "execution_count": 66,
      "metadata": {
        "id": "uYCCv4yH-6FE"
      },
      "outputs": [],
      "source": [
        "from numpy import linalg as LA\n",
        "\n",
        "def plot_ellipse(ctr, cov, ax, s=4.605):\n",
        "  \"\"\"\n",
        "  Args:\n",
        "    ctr (np.array(1, 2)): center of the ellipse\n",
        "    cov (np.array(2, 2)): covariance matrix\n",
        "    s (double): confidence interval\n",
        "  \"\"\"\n",
        "\n",
        "  epsilon = 0.01\n",
        "\n",
        "  eigenvalues, eigenvectors = LA.eigh(cov)\n",
        "  eigenvalues = eigenvalues + epsilon\n",
        "  # print(f\"Eigenvalues: {eigenvalues}\")\n",
        "  # if eigenvalues[0] < 0.0 or eigenvalues[1] < 0.0:\n",
        "  #   print(f\"Cov matrix: {cov}\")\n",
        "  #   print(f\"Eigenvalues: {eigenvalues}\")\n",
        "  # eigenvalues[eigenvalues < 0.0] = 0.1\n",
        "  a = math.sqrt(s*abs(eigenvalues[0]))\n",
        "  b = math.sqrt(s*abs(eigenvalues[1]))\n",
        "\n",
        "  if (a < b):\n",
        "    temp = dc(a)\n",
        "    a = dc(b)\n",
        "    b = temp\n",
        "\n",
        "  print(f\"Major axis: {a}\")\n",
        "\n",
        "  m = 0\n",
        "  l = 1\n",
        "  if eigenvalues[1] > eigenvalues[0]:\n",
        "    m = 1\n",
        "    l = 0\n",
        "\n",
        "  theta = math.atan2(eigenvectors[1,m], eigenvectors[0,m])\n",
        "  if theta < 0.0:\n",
        "    theta += math.pi\n",
        "\n",
        "  vx = []; vy = []\n",
        "  x = ctr[0]\n",
        "  y = ctr[1]\n",
        "  for phi in np.arange(0, 2*np.pi, 0.1):\n",
        "    xs = x + a * np.cos(phi) * np.cos(theta) - b * np.sin(phi) * np.sin(theta)\n",
        "    ys = y + a * np.cos(phi) * np.sin(theta) + b * np.sin(phi) * np.cos(theta)\n",
        "    vx.append(xs)\n",
        "    vy.append(ys)\n",
        "\n",
        "  vx.append(vx[0])\n",
        "  vy.append(vy[0])\n",
        "\n",
        "  # fig = plt.figure(figsize=(6,6))\n",
        "  ax.plot(vx, vy)\n",
        "\n",
        "\n",
        "\n",
        "\n"
      ]
    },
    {
      "cell_type": "code",
      "execution_count": 67,
      "metadata": {
        "id": "wdWZBvV1miAy",
        "colab": {
          "base_uri": "https://localhost:8080/"
        },
        "outputId": "6bb43065-cf32-4413-b3c6-98662d830316"
      },
      "outputs": [
        {
          "output_type": "stream",
          "name": "stdout",
          "text": [
            "5.999980 10.000062\n",
            "\n"
          ]
        }
      ],
      "source": [
        "data = []\n",
        "sizes = []\n",
        "for file in files:\n",
        "  with open(file) as f:\n",
        "    lines = f.readlines()\n",
        "    sizes.append(len(lines))\n",
        "\n",
        "  for l in lines:\n",
        "    data.append(l)\n",
        "\n",
        "print(data[0])\n",
        "\n",
        "poses = np.zeros([len(data), 2], dtype=\"float32\")\n",
        "\n",
        "for i in range(len(data)):\n",
        "  data[i] = data[i].replace('\\n', '')\n",
        "  poses[i] = tuple(map(float, data[i].split(' ')))"
      ]
    },
    {
      "cell_type": "markdown",
      "source": [
        "## Split poses and velocities"
      ],
      "metadata": {
        "id": "UgSNKLGGHUns"
      }
    },
    {
      "cell_type": "code",
      "source": [
        "pos = np.zeros((int(len(data)/2), 2), dtype=\"float32\")\n",
        "vel = np.zeros_like(pos)\n",
        "\n",
        "print(poses[0])\n",
        "print(f\"Original length: {len(poses)}\")\n",
        "print(f\"Pos length: {len(pos)}\")\n",
        "\n",
        "for i in range(0, len(pos)):\n",
        "  pos[i] = poses[2*i]\n",
        "  vel[i] = poses[2*i+1]\n",
        "\n"
      ],
      "metadata": {
        "colab": {
          "base_uri": "https://localhost:8080/"
        },
        "id": "fkvDqIkSHS6M",
        "outputId": "e9a22288-4556-4932-c41a-23f554fcdc07"
      },
      "execution_count": 68,
      "outputs": [
        {
          "output_type": "stream",
          "name": "stdout",
          "text": [
            "[ 5.99998  10.000062]\n",
            "Original length: 99952\n",
            "Pos length: 49976\n"
          ]
        }
      ]
    },
    {
      "cell_type": "code",
      "source": [
        "pos[0]"
      ],
      "metadata": {
        "colab": {
          "base_uri": "https://localhost:8080/"
        },
        "id": "OPI2UQxGJmc4",
        "outputId": "a796b99b-c5f8-4a8e-e17d-c3d44951dca2"
      },
      "execution_count": 69,
      "outputs": [
        {
          "output_type": "execute_result",
          "data": {
            "text/plain": [
              "array([ 5.99998 , 10.000062], dtype=float32)"
            ]
          },
          "metadata": {},
          "execution_count": 69
        }
      ]
    },
    {
      "cell_type": "markdown",
      "metadata": {
        "id": "gFvU11q7mtwW"
      },
      "source": [
        "## Convert numpy to torch.Tensor"
      ]
    },
    {
      "cell_type": "code",
      "execution_count": 80,
      "metadata": {
        "id": "fElRn3j8mstX"
      },
      "outputs": [],
      "source": [
        "X = torch.from_numpy(pos).to(device)\n",
        "y = torch.from_numpy(vel).to(device)"
      ]
    },
    {
      "cell_type": "code",
      "source": [
        "X[:ROBOTS_NUM, :]\n",
        "X.shape, y.shape"
      ],
      "metadata": {
        "colab": {
          "base_uri": "https://localhost:8080/"
        },
        "id": "nuKA3lQWIyUb",
        "outputId": "c38a310c-fa3a-4f83-c603-f839fcb17f02"
      },
      "execution_count": 81,
      "outputs": [
        {
          "output_type": "execute_result",
          "data": {
            "text/plain": [
              "(torch.Size([49976, 2]), torch.Size([49976, 2]))"
            ]
          },
          "metadata": {},
          "execution_count": 81
        }
      ]
    },
    {
      "cell_type": "code",
      "source": [
        "# X, y = X[:-4], y[:-4]\n",
        "s = int(X.shape[0]/ROBOTS_NUM)\n",
        "\n",
        "X = X[:s*ROBOTS_NUM]\n",
        "y = y[:s*ROBOTS_NUM]"
      ],
      "metadata": {
        "id": "IQQnOGRVKVk1"
      },
      "execution_count": 84,
      "outputs": []
    },
    {
      "cell_type": "code",
      "source": [
        "X = X.view(-1, 2*ROBOTS_NUM)\n",
        "y = y.view(-1, 2*ROBOTS_NUM)"
      ],
      "metadata": {
        "id": "12fJ3EIPLUXL"
      },
      "execution_count": 85,
      "outputs": []
    },
    {
      "cell_type": "code",
      "execution_count": 86,
      "metadata": {
        "id": "e7atkB4ZtVxx",
        "colab": {
          "base_uri": "https://localhost:8080/"
        },
        "outputId": "56e7e0cf-6ce0-4fd5-a931-84f9e8d1e74b"
      },
      "outputs": [
        {
          "output_type": "execute_result",
          "data": {
            "text/plain": [
              "(torch.Size([8329, 12]), torch.Size([8329, 12]))"
            ]
          },
          "metadata": {},
          "execution_count": 86
        }
      ],
      "source": [
        "X.shape, y.shape"
      ]
    },
    {
      "cell_type": "markdown",
      "source": [
        "## Scale values"
      ],
      "metadata": {
        "id": "qgor3XIVnG9f"
      }
    },
    {
      "cell_type": "code",
      "source": [
        "from sklearn.preprocessing import MinMaxScaler\n",
        "\n",
        "# scaler = MinMaxScaler(feature_range=(-1,1))\n",
        "# X_scaled = scaler.fit_transform(X.cpu())\n",
        "# # y_scaled = scaler.fit_transform(y.cpu())\n",
        "# X_new = np.float32(X_scaled)\n",
        "# # y_new = y_scaled\n",
        "\n",
        "# X = torch.from_numpy(X_new)\n",
        "# print(type(X))\n",
        "# y = torch.from_numpy(y_new)"
      ],
      "metadata": {
        "id": "XaUF5gP6nIK_"
      },
      "execution_count": 87,
      "outputs": []
    },
    {
      "cell_type": "markdown",
      "metadata": {
        "id": "JHuxxZf5dUH6"
      },
      "source": [
        "## Create train and test split"
      ]
    },
    {
      "cell_type": "code",
      "execution_count": 88,
      "metadata": {
        "id": "sYw4KJztvpeI",
        "colab": {
          "base_uri": "https://localhost:8080/"
        },
        "outputId": "e5797755-51d7-4210-ff12-113381a4b7c8"
      },
      "outputs": [
        {
          "output_type": "execute_result",
          "data": {
            "text/plain": [
              "(torch.Size([6663, 12]),\n",
              " torch.Size([1666, 12]),\n",
              " torch.Size([6663, 12]),\n",
              " torch.Size([1666, 12]))"
            ]
          },
          "metadata": {},
          "execution_count": 88
        }
      ],
      "source": [
        "from sklearn.model_selection import train_test_split\n",
        "\n",
        "X_train, X_test, y_train, y_test = train_test_split(X,\n",
        "                                                   y,\n",
        "                                                   test_size=0.2)\n",
        "\n",
        "y_train = y_train.squeeze(1)\n",
        "y_test = y_test.squeeze(1)\n",
        "X_train.shape, X_test.shape, y_train.shape, y_test.shape"
      ]
    },
    {
      "cell_type": "code",
      "execution_count": 89,
      "metadata": {
        "id": "8YErhSVZf1p9"
      },
      "outputs": [],
      "source": [
        "from torch.utils.data import TensorDataset, DataLoader\n",
        "\n",
        "# create TensorDatasets for training and testing sets\n",
        "train_dataset = TensorDataset(X_train, y_train)\n",
        "test_dataset = TensorDataset(X_test, y_test)\n",
        "\n",
        "# create DataLoaders\n",
        "batch_size = 64\n",
        "train_loader = DataLoader(train_dataset, batch_size=batch_size, shuffle=True)\n",
        "test_loader = DataLoader(test_dataset, batch_size=batch_size, shuffle=False)"
      ]
    },
    {
      "cell_type": "code",
      "execution_count": 90,
      "metadata": {
        "id": "1ahRpSqsp9O9",
        "colab": {
          "base_uri": "https://localhost:8080/"
        },
        "outputId": "072cceda-a313-4c56-a515-31a05e629f5a"
      },
      "outputs": [
        {
          "output_type": "stream",
          "name": "stdout",
          "text": [
            "torch.Size([64, 12]) torch.Size([64, 12])\n"
          ]
        }
      ],
      "source": [
        "for input, target in train_loader:\n",
        "  print(input.shape, target.shape)\n",
        "  break"
      ]
    },
    {
      "cell_type": "markdown",
      "metadata": {
        "id": "ifu_-G4Fgfq2"
      },
      "source": [
        "## Define neural network model"
      ]
    },
    {
      "cell_type": "code",
      "execution_count": 162,
      "metadata": {
        "id": "vQNyU1ioxrHp"
      },
      "outputs": [],
      "source": [
        "class CoverageModel(nn.Module):\n",
        "  def __init__(self, input_size, output_size):\n",
        "    super().__init__()\n",
        "    self.input_size = input_size\n",
        "    self.output_size = output_size\n",
        "\n",
        "    self.fc1 = nn.Linear(input_size, 64)\n",
        "    self.fc2 = nn.Linear(64, 32)\n",
        "    self.fc3 = nn.Linear(32, output_size)\n",
        "    self.relu = nn.ReLU()\n",
        "    self.activation = nn.Sigmoid()\n",
        "\n",
        "  def forward(self, x):\n",
        "    x = self.activation(self.fc1(x))\n",
        "    x = self.activation(self.fc2(x))\n",
        "    x = self.fc3(x)\n",
        "\n",
        "    return x"
      ]
    },
    {
      "cell_type": "code",
      "source": [
        "class CoverageModel2(nn.Module):\n",
        "  def __init__(self, input_size, output_size):\n",
        "    super().__init__()\n",
        "    self.input_size = input_size\n",
        "    self.output_size = output_size\n",
        "\n",
        "    self.fc1 = nn.Linear(input_size, 128)\n",
        "    self.fc2 = nn.Linear(128, 64)\n",
        "    self.fc3 = nn.Linear(64, 32)\n",
        "    self.fc4 = nn.Linear(32, output_size)\n",
        "    self.relu = nn.ReLU()\n",
        "    # self.activation = nn.Sigmoid()\n",
        "    self.activation = nn.Tanh()\n",
        "\n",
        "    self.scale_param = nn.Parameter(torch.ones(1))\n",
        "\n",
        "  def forward(self, x):\n",
        "    x = self.activation(self.fc1(x))\n",
        "    x = self.activation(self.fc2(x))\n",
        "    x = self.activation(self.fc3(x))\n",
        "    x = self.fc4(x)\n",
        "\n",
        "    # x[:, 4] = x[:, 3]\n",
        "\n",
        "    # cov_matrix = x[:, 2:]\n",
        "    # cov_matrix = cov_matrix.view(-1, 2, 2)\n",
        "    # scaled_cov_matrix = cov_matrix * self.scale_param\n",
        "    # scaled_cov_matrix = scaled_cov_matrix.view(-1, 4)\n",
        "\n",
        "    # out = torch.cat((x[:, :2], scaled_cov_matrix), dim=1)\n",
        "\n",
        "    return x"
      ],
      "metadata": {
        "id": "KcS7nQ_YXh5v"
      },
      "execution_count": 163,
      "outputs": []
    },
    {
      "cell_type": "markdown",
      "metadata": {
        "id": "jtmGxLURgbeZ"
      },
      "source": [
        "## Training"
      ]
    },
    {
      "cell_type": "code",
      "execution_count": 134,
      "metadata": {
        "id": "6_r3ETDpx7j0"
      },
      "outputs": [],
      "source": [
        "model = CoverageModel2(2 * ROBOTS_NUM, 2 * ROBOTS_NUM)\n",
        "model = model.to(device)\n",
        "loss_fn = nn.MSELoss()\n",
        "optimizer = torch.optim.Adam(model.parameters(), lr=0.001)\n",
        "\n",
        "RUN_BATCHED = False"
      ]
    },
    {
      "cell_type": "markdown",
      "metadata": {
        "id": "gyU-eUOgvT7B"
      },
      "source": [
        "## Train on unbatched data"
      ]
    },
    {
      "cell_type": "code",
      "execution_count": 135,
      "metadata": {
        "id": "nxgwi6cDvTtg",
        "colab": {
          "base_uri": "https://localhost:8080/"
        },
        "outputId": "e067a2b3-08c6-4992-a653-96387b62b2f0"
      },
      "outputs": [
        {
          "output_type": "stream",
          "name": "stdout",
          "text": [
            "output shape: torch.Size([6663, 12])\n",
            "Target shape: torch.Size([6663, 12])\n",
            "Epoch: 0 | Loss: 0.2516896426677704 | Test loss: 0.2273460179567337\n",
            "Epoch: 100 | Loss: 0.036019161343574524 | Test loss: 0.0342940092086792\n",
            "Epoch: 200 | Loss: 0.01962163671851158 | Test loss: 0.018851421773433685\n",
            "Epoch: 300 | Loss: 0.011504605412483215 | Test loss: 0.011751176789402962\n",
            "Epoch: 400 | Loss: 0.006881923880428076 | Test loss: 0.0075459666550159454\n",
            "Epoch: 500 | Loss: 0.004477848764508963 | Test loss: 0.005376735236495733\n",
            "Epoch: 600 | Loss: 0.0032757087610661983 | Test loss: 0.004377112258225679\n",
            "Epoch: 700 | Loss: 0.002589603653177619 | Test loss: 0.0038273304235190153\n",
            "Epoch: 800 | Loss: 0.002137955743819475 | Test loss: 0.003439192660152912\n",
            "Epoch: 900 | Loss: 0.0017859248910099268 | Test loss: 0.003134737256914377\n",
            "Epoch: 1000 | Loss: 0.0015435797395184636 | Test loss: 0.002918030135333538\n",
            "Epoch: 1100 | Loss: 0.0013594763586297631 | Test loss: 0.0027644862420856953\n",
            "Epoch: 1200 | Loss: 0.001210634014569223 | Test loss: 0.002639568643644452\n",
            "Epoch: 1300 | Loss: 0.0011358399642631412 | Test loss: 0.0025788142811506987\n",
            "Epoch: 1400 | Loss: 0.0010023348731920123 | Test loss: 0.0024804507847875357\n",
            "Epoch: 1500 | Loss: 0.0009205635287798941 | Test loss: 0.002419449156150222\n",
            "Epoch: 1600 | Loss: 0.000866552407387644 | Test loss: 0.00238247262313962\n",
            "Epoch: 1700 | Loss: 0.0007940292125567794 | Test loss: 0.0023242654278874397\n",
            "Epoch: 1800 | Loss: 0.0007441075285896659 | Test loss: 0.0022916807793080807\n",
            "Epoch: 1900 | Loss: 0.0007647547754459083 | Test loss: 0.002332055475562811\n",
            "Epoch: 2000 | Loss: 0.0007001215708442032 | Test loss: 0.0022520250640809536\n",
            "Epoch: 2100 | Loss: 0.0006315855425782502 | Test loss: 0.0022021462209522724\n",
            "Epoch: 2200 | Loss: 0.000600681989453733 | Test loss: 0.0021809798199683428\n",
            "Epoch: 2300 | Loss: 0.0005849720910191536 | Test loss: 0.002175999339669943\n",
            "Epoch: 2400 | Loss: 0.0005595096736215055 | Test loss: 0.0021528885699808598\n",
            "Epoch: 2500 | Loss: 0.0005284709623083472 | Test loss: 0.0021316022612154484\n",
            "Epoch: 2600 | Loss: 0.0005171180237084627 | Test loss: 0.0021208308171480894\n",
            "Epoch: 2700 | Loss: 0.0004893675213679671 | Test loss: 0.002109051216393709\n",
            "Epoch: 2800 | Loss: 0.00046946355723775923 | Test loss: 0.0020963193383067846\n",
            "Epoch: 2900 | Loss: 0.00045365557889454067 | Test loss: 0.0020874538458883762\n",
            "Epoch: 3000 | Loss: 0.0004916641628369689 | Test loss: 0.0021143793128430843\n",
            "Epoch: 3100 | Loss: 0.0004281572764739394 | Test loss: 0.0020762032363563776\n",
            "Epoch: 3200 | Loss: 0.00042768922867253423 | Test loss: 0.0020834130700677633\n",
            "Epoch: 3300 | Loss: 0.0004317177808843553 | Test loss: 0.0020921039395034313\n",
            "Epoch: 3400 | Loss: 0.00040408462518826127 | Test loss: 0.002067151013761759\n",
            "Epoch: 3500 | Loss: 0.0003848502819892019 | Test loss: 0.002060933504253626\n",
            "Epoch: 3600 | Loss: 0.00038350786780938506 | Test loss: 0.0020690779201686382\n",
            "Epoch: 3700 | Loss: 0.0003739787498489022 | Test loss: 0.002065034583210945\n",
            "Epoch: 3800 | Loss: 0.0003623919910751283 | Test loss: 0.002058041747659445\n",
            "Epoch: 3900 | Loss: 0.000361963699106127 | Test loss: 0.0020679966546595097\n",
            "Epoch: 4000 | Loss: 0.00035862630465999246 | Test loss: 0.0020618552807718515\n",
            "Epoch: 4100 | Loss: 0.0003541051410138607 | Test loss: 0.002069037640467286\n",
            "Epoch: 4200 | Loss: 0.00034845469053834677 | Test loss: 0.0020769007969647646\n",
            "Epoch: 4300 | Loss: 0.0003275480994489044 | Test loss: 0.002059455495327711\n",
            "Epoch: 4400 | Loss: 0.00031902402406558394 | Test loss: 0.002055605873465538\n",
            "Epoch: 4500 | Loss: 0.0003477981372270733 | Test loss: 0.0020914964843541384\n",
            "Epoch: 4600 | Loss: 0.0003085459757130593 | Test loss: 0.002060188679024577\n",
            "Epoch: 4700 | Loss: 0.00030341933597810566 | Test loss: 0.0020597863476723433\n",
            "Epoch: 4800 | Loss: 0.00037464534398168325 | Test loss: 0.002115674549713731\n",
            "Epoch: 4900 | Loss: 0.0003014283429365605 | Test loss: 0.0020709147211164236\n"
          ]
        }
      ],
      "source": [
        "if not RUN_BATCHED:\n",
        "  epochs = 5000\n",
        "  epsilon = 0.01\n",
        "\n",
        "  for epoch in range(epochs):\n",
        "    model.train()\n",
        "    y_pred = model(X_train)\n",
        "    if epoch == 0:\n",
        "      print(f\"output shape: {y_pred.shape}\")\n",
        "      print(f\"Target shape: {y_train.shape}\")\n",
        "    loss = loss_fn(y_pred, y_train)\n",
        "    torch.autograd.set_detect_anomaly(True)\n",
        "    optimizer.zero_grad()\n",
        "    loss.backward()\n",
        "    optimizer.step()\n",
        "\n",
        "    ### Testing\n",
        "    model.eval()\n",
        "    with torch.inference_mode():\n",
        "      test_pred = model(X_test)\n",
        "      test_loss = loss_fn(test_pred, y_test)\n",
        "\n",
        "    if epoch % 100 == 0:\n",
        "      print(f\"Epoch: {epoch} | Loss: {loss.item()} | Test loss: {test_loss.item()}\")"
      ]
    },
    {
      "cell_type": "code",
      "source": [
        "# for name, param in model.named_parameters():\n",
        "#   if param.requires_grad:\n",
        "#     print(name, param)"
      ],
      "metadata": {
        "id": "LlzgnpI8iiK1"
      },
      "execution_count": null,
      "outputs": []
    },
    {
      "cell_type": "markdown",
      "metadata": {
        "id": "Rvz1wWRh-zt4"
      },
      "source": [
        "## Test on simulated robots"
      ]
    },
    {
      "cell_type": "code",
      "execution_count": 145,
      "metadata": {
        "id": "Q9p3vR1d-2ZW",
        "colab": {
          "base_uri": "https://localhost:8080/",
          "height": 430
        },
        "outputId": "8c2a9688-9953-4f2d-e9e6-c8f367ca1ebf"
      },
      "outputs": [
        {
          "output_type": "display_data",
          "data": {
            "text/plain": [
              "<Figure size 640x480 with 1 Axes>"
            ],
            "image/png": "[encoded data removed]"
          },
          "metadata": {}
        }
      ],
      "source": [
        "import random\n",
        "\n",
        "robots = np.zeros((ROBOTS_NUM, 2), dtype=\"float32\")\n",
        "for i in range(ROBOTS_NUM):\n",
        "  robots[i, :] = -10.0 + 20.0 * np.random.rand(1, 2)\n",
        "\n",
        "# robots = np.array(([-4.0, 4.0],\n",
        "#                   [-4.0, -4.0],\n",
        "#                   [4.0, -4.0],\n",
        "#                   [4.0, 4.0],\n",
        "#                   [6.0, 0.0],\n",
        "#                   [-6.0, 0.0]),\n",
        "#                   dtype=\"float32\")\n",
        "\n",
        "# robots = robots - 8.0\n",
        "plt.scatter(robots[:, 0], robots[:, 1])\n",
        "Xt = torch.from_numpy(robots)\n",
        "Xt = Xt.view(-1, ROBOTS_NUM*2)\n",
        "Xt = Xt.to(device)"
      ]
    },
    {
      "cell_type": "code",
      "source": [
        "Xt[0, 0]"
      ],
      "metadata": {
        "id": "J6j-HevAO2JE"
      },
      "execution_count": null,
      "outputs": []
    },
    {
      "cell_type": "markdown",
      "metadata": {
        "id": "vpiZWVcbIHmc"
      },
      "source": [
        "## Forecast next steps"
      ]
    },
    {
      "cell_type": "code",
      "source": [
        "NUM_STEPS = 500\n",
        "dt = 0.2\n",
        "\n",
        "X_hist = [Xt]\n",
        "# v_hist = []\n",
        "\n",
        "r_hist = []"
      ],
      "metadata": {
        "id": "WajxxktrkoFW"
      },
      "execution_count": 153,
      "outputs": []
    },
    {
      "cell_type": "code",
      "execution_count": 157,
      "metadata": {
        "id": "lCtXA0HaoalO",
        "colab": {
          "base_uri": "https://localhost:8080/"
        },
        "outputId": "af94b53b-ca34-4f0f-f44a-3fcd9c9448c8"
      },
      "outputs": [
        {
          "output_type": "stream",
          "name": "stdout",
          "text": [
            "torch.Size([500, 6, 2])\n"
          ]
        }
      ],
      "source": [
        "for i in range(ROBOTS_NUM):\n",
        "  r = []\n",
        "  r_hist.append(r)\n",
        "\n",
        "robots_hist = torch.Tensor(NUM_STEPS, ROBOTS_NUM, 2)\n",
        "print(robots_hist.shape)\n",
        "\n",
        "for i in range(NUM_STEPS):\n",
        "  # get velocity\n",
        "  v_pred = model(Xt)\n",
        "  # print(f\"Vpred : {v_pred}\")\n",
        "\n",
        "  # move robots\n",
        "  # v = v_pred.view(ROBOTS_NUM, 2)\n",
        "\n",
        "  # for j in range(2*ROBOTS_NUM):\n",
        "  Xt[0, :] = Xt[0, :] + v_pred[0, :] * dt\n",
        "  # print(f\"Actual Xt: {Xt}\")\n",
        "\n",
        "  xp = Xt.view(ROBOTS_NUM, 2)\n",
        "  for j in range(ROBOTS_NUM):\n",
        "    robots_hist[i, j, :] = xp[j, :]\n",
        "\n",
        "  X_hist.append(Xt)\n",
        "\n",
        "\n",
        "\n"
      ]
    },
    {
      "cell_type": "code",
      "source": [
        "robots_hist[:, 0, :]"
      ],
      "metadata": {
        "id": "5Yb1cXjUTgiT"
      },
      "execution_count": null,
      "outputs": []
    },
    {
      "cell_type": "code",
      "source": [
        "for i in range(ROBOTS_NUM):\n",
        "  plt.plot(robots_hist[:, i, 0].cpu().detach().numpy(), robots_hist[:, i, 1].cpu().detach().numpy())\n",
        "\n",
        "  # for i in range(ROBOTS_NUM):\n",
        "  plt.scatter(robots_hist[-1, i, 0].cpu().detach().numpy(), robots_hist[-1, i, 1].cpu().detach().numpy())\n",
        "\n",
        "plt.plot(0.0, 0.0, '*')"
      ],
      "metadata": {
        "id": "Thl9KTJtPig-",
        "colab": {
          "base_uri": "https://localhost:8080/",
          "height": 447
        },
        "outputId": "fe1f058c-e4a3-4547-8eab-cbc2f293a30f"
      },
      "execution_count": 158,
      "outputs": [
        {
          "output_type": "execute_result",
          "data": {
            "text/plain": [
              "[<matplotlib.lines.Line2D at 0x7c123e30f160>]"
            ]
          },
          "metadata": {},
          "execution_count": 158
        },
        {
          "output_type": "display_data",
          "data": {
            "text/plain": [
              "<Figure size 640x480 with 1 Axes>"
            ],
            "image/png": "[encoded data removed]"
          },
          "metadata": {}
        }
      ]
    },
    {
      "cell_type": "markdown",
      "source": [
        "## Plot final position"
      ],
      "metadata": {
        "id": "mI-smGDZaN_P"
      }
    },
    {
      "cell_type": "code",
      "source": [
        "for i in range(ROBOTS_NUM):\n",
        "  plt.scatter(robots_hist[-1, i, 0].cpu().detach().numpy(), robots_hist[-1, i, 1].cpu().detach().numpy())\n",
        "\n",
        "plt.plot(0.0, 0.0, '*')"
      ],
      "metadata": {
        "colab": {
          "base_uri": "https://localhost:8080/",
          "height": 447
        },
        "id": "_JYL7wMaaPJL",
        "outputId": "221ee280-0420-4dbf-89cf-0461976a8dad"
      },
      "execution_count": 161,
      "outputs": [
        {
          "output_type": "execute_result",
          "data": {
            "text/plain": [
              "[<matplotlib.lines.Line2D at 0x7c123e2b6dd0>]"
            ]
          },
          "metadata": {},
          "execution_count": 161
        },
        {
          "output_type": "display_data",
          "data": {
            "text/plain": [
              "<Figure size 640x480 with 1 Axes>"
            ],
            "image/png": "[encoded data removed]"
          },
          "metadata": {}
        }
      ]
    }
  ],
  "metadata": {
    "accelerator": "GPU",
    "colab": {
      "provenance": [],
      "include_colab_link": true
    },
    "kernelspec": {
      "display_name": "Python 3",
      "name": "python3"
    },
    "language_info": {
      "name": "python"
    }
  },
  "nbformat": 4,
  "nbformat_minor": 0
}