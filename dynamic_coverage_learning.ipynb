{
  "cells": [
    {
      "cell_type": "markdown",
      "metadata": {
        "id": "view-in-github",
        "colab_type": "text"
      },
      "source": [
        "<a href=\"https://colab.research.google.com/github/MatCat960/pf-training/blob/main/dynamic_coverage_learning.ipynb\" target=\"_parent\"><img src=\"https://colab.research.google.com/assets/colab-badge.svg\" alt=\"Open In Colab\"/></a>"
      ]
    },
    {
      "cell_type": "markdown",
      "metadata": {
        "id": "4mAAf6n8RKip"
      },
      "source": [
        "# Training a Neural Network to perform distributed Coverage **with unknown number of robots**"
      ]
    },
    {
      "cell_type": "code",
      "execution_count": 1,
      "metadata": {
        "id": "Yk7wMJP1FG5X"
      },
      "outputs": [],
      "source": [
        "import torch\n",
        "from torch import nn\n",
        "import torch.nn.functional as F\n",
        "import matplotlib.pyplot as plt\n",
        "import numpy as np\n",
        "import math\n",
        "\n",
        "from pathlib import Path\n",
        "from copy import deepcopy as dc"
      ]
    },
    {
      "cell_type": "code",
      "execution_count": 2,
      "metadata": {
        "colab": {
          "base_uri": "https://localhost:8080/"
        },
        "id": "0BkQOvegm_vc",
        "outputId": "9f3b3c88-504f-4948-e3a3-362ee58ce332"
      },
      "outputs": [
        {
          "output_type": "stream",
          "name": "stdout",
          "text": [
            "Using device: cuda\n"
          ]
        }
      ],
      "source": [
        "# Setup device agnostic code\n",
        "device = 'cuda' if torch.cuda.is_available() else 'cpu'\n",
        "\n",
        "print(f\"Using device: {device}\")"
      ]
    },
    {
      "cell_type": "code",
      "execution_count": 3,
      "metadata": {
        "colab": {
          "base_uri": "https://localhost:8080/"
        },
        "id": "i4n22Qc7jcos",
        "outputId": "325d52ed-ee95-4c23-9e13-f5bc1d05f9fe"
      },
      "outputs": [
        {
          "output_type": "stream",
          "name": "stdout",
          "text": [
            "Mounted at /content/drive\n"
          ]
        }
      ],
      "source": [
        "from google.colab import drive\n",
        "drive.mount('/content/drive')"
      ]
    },
    {
      "cell_type": "code",
      "execution_count": 4,
      "metadata": {
        "id": "DlGZQeSicVds"
      },
      "outputs": [],
      "source": [
        "path = Path(\"/content/drive/MyDrive/Colab Notebooks/PyTorch tutorial/dynamic_coverage_vel2\").glob('**/*')\n",
        "# path = Path(\"/content/drive/MyDrive/Colab Notebooks/PyTorch tutorial/dynamic_coverage_vel/log_6_robots.txt\")\n",
        "files = [x for x in path if x.is_file()]"
      ]
    },
    {
      "cell_type": "code",
      "execution_count": 5,
      "metadata": {
        "colab": {
          "base_uri": "https://localhost:8080/"
        },
        "id": "Kd-7nUFW3Wmi",
        "outputId": "1cb9d9b0-117e-4ed7-ddd3-b743fe4d45f0"
      },
      "outputs": [
        {
          "output_type": "execute_result",
          "data": {
            "text/plain": [
              "76"
            ]
          },
          "metadata": {},
          "execution_count": 5
        }
      ],
      "source": [
        "len(files)"
      ]
    },
    {
      "cell_type": "code",
      "execution_count": 6,
      "metadata": {
        "id": "OEu4NKbsgvAl"
      },
      "outputs": [],
      "source": [
        "ROBOTS_NUM = 20\n",
        "lookback = 7\n",
        "AREA_W = 30.0\n",
        "AREA_H = 30.0\n",
        "GRID_STEPS = 64\n",
        "ROBOT_RANGE = 15.0\n",
        "ROBOT_FOV = 120.0"
      ]
    },
    {
      "cell_type": "markdown",
      "metadata": {
        "id": "olezhXsuZ2kK"
      },
      "source": [
        "## Utility Functions"
      ]
    },
    {
      "cell_type": "code",
      "execution_count": 7,
      "metadata": {
        "id": "UvkdGnEgm1lu"
      },
      "outputs": [],
      "source": [
        "def in_fov(robot, target, fov, range):\n",
        "  fov_rad = fov * math.pi / 180.0\n",
        "  xr = robot[0]\n",
        "  yr = robot[1]\n",
        "  phi = robot[2]\n",
        "  dx = target[0] - xr\n",
        "  dy = target[1] - yr\n",
        "  dist = math.sqrt(dx**2 + dy**2)\n",
        "  if dist > range:\n",
        "    return 0\n",
        "\n",
        "  xrel = dx * math.cos(phi) + dy * math.sin(phi)\n",
        "  yrel = -dy * math.sin(phi) + dy * math.cos(phi)\n",
        "  angle = abs(math.atan2(yrel, xrel))\n",
        "  if (angle <= fov_rad) and (xrel >= 0.0):\n",
        "    return 1\n",
        "  else:\n",
        "    return 0"
      ]
    },
    {
      "cell_type": "code",
      "execution_count": 8,
      "metadata": {
        "id": "i5BdD78MDY7B"
      },
      "outputs": [],
      "source": [
        "def gauss_pdf(x, y, means, covs):\n",
        "  \"\"\"\n",
        "  Calculate the probability in the cell (x,y)\n",
        "\n",
        "  Args:\n",
        "    x (float) : x coord of the considered point\n",
        "    y (float) : y coord of the considered point\n",
        "    means (list(np.array)) : list of mean points\n",
        "    covs (list(np.array)) : list of covariance matrices\n",
        "  \"\"\"\n",
        "\n",
        "  prob = 0.0\n",
        "  for i in range(len(means)):\n",
        "    m = means[i]\n",
        "    cov = covs[i]\n",
        "    exp = -0.5 * np.sum"
      ]
    },
    {
      "cell_type": "code",
      "execution_count": 9,
      "metadata": {
        "id": "LWYZVbxbE2Eh"
      },
      "outputs": [],
      "source": [
        "# X, Y : meshgrid\n",
        "def multigauss_pdf(X, Y, means, sigmas):\n",
        "  # Flatten the meshgrid coordinates\n",
        "  points = np.column_stack([X.flatten(), Y.flatten()])\n",
        "\n",
        "  # Number of components in the mixture model\n",
        "  num_components = len(means)\n",
        "\n",
        "\n",
        "  # Initialize the probabilities\n",
        "  probabilities = np.zeros_like(X)\n",
        "\n",
        "  # Calculate the probability for each component\n",
        "  for i in range(num_components):\n",
        "      mean = means[i]\n",
        "      covariance = sigmas[i]\n",
        "\n",
        "      # Calculate the multivariate Gaussian probability\n",
        "      exponent = -0.5 * np.sum((points - mean) @ np.linalg.inv(covariance) * (points - mean), axis=1)\n",
        "      coefficient = 1 / np.sqrt((2 * np.pi) ** 2 * np.linalg.det(covariance))\n",
        "      component_prob = coefficient * np.exp(exponent)\n",
        "\n",
        "      # Add the component probability weighted by its weight\n",
        "      probabilities += component_prob.reshape(X.shape)\n",
        "\n",
        "  return probabilities"
      ]
    },
    {
      "cell_type": "code",
      "execution_count": 10,
      "metadata": {
        "id": "LsjwmGcbT41u"
      },
      "outputs": [],
      "source": [
        "def plot_fov(fov_deg, radius, ax):\n",
        "  # fig = plt.figure(figsize=(6,6))\n",
        "  # plt.scatter(neighs[:, 0], neighs[:, 1], marker='*')\n",
        "\n",
        "  x1 = np.array([0.0, 0.0, 0.0])\n",
        "  fov = fov_deg * math.pi / 180\n",
        "  arc_theta = np.arange(-0.5*fov, 0.5*fov, 0.01*math.pi)\n",
        "  th = np.arange(fov/2, 2*math.pi+fov/2, 0.01*math.pi)\n",
        "\n",
        "  # FOV\n",
        "  xfov = radius * np.cos(arc_theta)\n",
        "  xfov = np.append(x1[0], xfov)\n",
        "  xfov = np.append(xfov, x1[0])\n",
        "  yfov = radius * np.sin(arc_theta)\n",
        "  yfov = np.append(x1[1], yfov)\n",
        "  yfov = np.append(yfov, x1[1])\n",
        "  ax.plot(xfov, yfov)"
      ]
    },
    {
      "cell_type": "code",
      "execution_count": 11,
      "metadata": {
        "id": "2PIvxb1CkxU0"
      },
      "outputs": [],
      "source": [
        "def generate_sequence_tensor(original_tensor, sequence_length=5):\n",
        "    num_samples, cols = original_tensor.shape\n",
        "    sequence_tensor = torch.zeros(num_samples, sequence_length, cols)\n",
        "\n",
        "    # sequence_tensor[:, 0, :, :, :] = original_tensor.roll(0, dims=0)\n",
        "    for i in range(0, sequence_length):\n",
        "        sequence_tensor[:, i, :] = original_tensor.roll(-i, dims=0)\n",
        "\n",
        "    return sequence_tensor"
      ]
    },
    {
      "cell_type": "code",
      "execution_count": 12,
      "metadata": {
        "id": "uYCCv4yH-6FE"
      },
      "outputs": [],
      "source": [
        "from numpy import linalg as LA\n",
        "\n",
        "def plot_ellipse(ctr, cov, ax, s=4.605):\n",
        "  \"\"\"\n",
        "  Args:\n",
        "    ctr (np.array(1, 2)): center of the ellipse\n",
        "    cov (np.array(2, 2)): covariance matrix\n",
        "    s (double): confidence interval\n",
        "  \"\"\"\n",
        "\n",
        "  epsilon = 0.01\n",
        "\n",
        "  eigenvalues, eigenvectors = LA.eigh(cov)\n",
        "  eigenvalues = eigenvalues + epsilon\n",
        "  # print(f\"Eigenvalues: {eigenvalues}\")\n",
        "  # if eigenvalues[0] < 0.0 or eigenvalues[1] < 0.0:\n",
        "  #   print(f\"Cov matrix: {cov}\")\n",
        "  #   print(f\"Eigenvalues: {eigenvalues}\")\n",
        "  # eigenvalues[eigenvalues < 0.0] = 0.1\n",
        "  a = math.sqrt(s*abs(eigenvalues[0]))\n",
        "  b = math.sqrt(s*abs(eigenvalues[1]))\n",
        "\n",
        "  if (a < b):\n",
        "    temp = dc(a)\n",
        "    a = dc(b)\n",
        "    b = temp\n",
        "\n",
        "  print(f\"Major axis: {a}\")\n",
        "\n",
        "  m = 0\n",
        "  l = 1\n",
        "  if eigenvalues[1] > eigenvalues[0]:\n",
        "    m = 1\n",
        "    l = 0\n",
        "\n",
        "  theta = math.atan2(eigenvectors[1,m], eigenvectors[0,m])\n",
        "  if theta < 0.0:\n",
        "    theta += math.pi\n",
        "\n",
        "  vx = []; vy = []\n",
        "  x = ctr[0]\n",
        "  y = ctr[1]\n",
        "  for phi in np.arange(0, 2*np.pi, 0.1):\n",
        "    xs = x + a * np.cos(phi) * np.cos(theta) - b * np.sin(phi) * np.sin(theta)\n",
        "    ys = y + a * np.cos(phi) * np.sin(theta) + b * np.sin(phi) * np.cos(theta)\n",
        "    vx.append(xs)\n",
        "    vy.append(ys)\n",
        "\n",
        "  vx.append(vx[0])\n",
        "  vy.append(vy[0])\n",
        "\n",
        "  # fig = plt.figure(figsize=(6,6))\n",
        "  ax.plot(vx, vy)\n",
        "\n",
        "\n",
        "\n",
        "\n"
      ]
    },
    {
      "cell_type": "code",
      "execution_count": 13,
      "metadata": {
        "id": "wdWZBvV1miAy",
        "colab": {
          "base_uri": "https://localhost:8080/"
        },
        "outputId": "3dc959ec-f556-45a0-86a6-a70e0bb86b9b"
      },
      "outputs": [
        {
          "output_type": "stream",
          "name": "stdout",
          "text": [
            "100.000000 100.000000\n",
            "\n"
          ]
        }
      ],
      "source": [
        "data = []\n",
        "sizes = []\n",
        "for file in files:\n",
        "  with open(file) as f:\n",
        "    lines = f.readlines()\n",
        "    sizes.append(len(lines))\n",
        "\n",
        "  for l in lines:\n",
        "    data.append(l)\n",
        "\n",
        "print(data[0])\n",
        "\n",
        "poses = np.zeros([len(data), 2], dtype=\"float32\")\n",
        "\n",
        "for i in range(len(data)):\n",
        "  data[i] = data[i].replace('\\n', '')\n",
        "  poses[i] = tuple(map(float, data[i].split(' ')))"
      ]
    },
    {
      "cell_type": "markdown",
      "source": [
        "## Split poses and velocities"
      ],
      "metadata": {
        "id": "UgSNKLGGHUns"
      }
    },
    {
      "cell_type": "code",
      "source": [
        "pos = np.zeros((int(len(data)/2), 2), dtype=\"float32\")\n",
        "vel = np.zeros_like(pos)\n",
        "\n",
        "print(poses[0])\n",
        "print(f\"Original length: {len(poses)}\")\n",
        "print(f\"Pos length: {len(pos)}\")\n",
        "\n",
        "for i in range(0, len(pos)):\n",
        "  pos[i] = poses[2*i]\n",
        "  vel[i] = poses[2*i+1]\n",
        "\n"
      ],
      "metadata": {
        "colab": {
          "base_uri": "https://localhost:8080/"
        },
        "id": "fkvDqIkSHS6M",
        "outputId": "a27e5b1a-dc01-4eac-af8e-81e6a1cc3a9a"
      },
      "execution_count": null,
      "outputs": [
        {
          "output_type": "stream",
          "name": "stdout",
          "text": [
            "[11.999902 12.00013 ]\n",
            "Original length: 809574\n",
            "Pos length: 404787\n"
          ]
        }
      ]
    },
    {
      "cell_type": "code",
      "source": [
        "pos[pos == 100.0] = 0.0\n",
        "vel[vel == 99.9] = 0.0"
      ],
      "metadata": {
        "id": "t5BJzzTFdE-m"
      },
      "execution_count": null,
      "outputs": []
    },
    {
      "cell_type": "code",
      "source": [
        "pos[0]"
      ],
      "metadata": {
        "colab": {
          "base_uri": "https://localhost:8080/"
        },
        "id": "OPI2UQxGJmc4",
        "outputId": "72c6df3e-7e47-4b02-cd74-4c8f6cf80f77"
      },
      "execution_count": null,
      "outputs": [
        {
          "output_type": "execute_result",
          "data": {
            "text/plain": [
              "array([11.999902, 12.00013 ], dtype=float32)"
            ]
          },
          "metadata": {},
          "execution_count": 16
        }
      ]
    },
    {
      "cell_type": "markdown",
      "metadata": {
        "id": "gFvU11q7mtwW"
      },
      "source": [
        "## Convert numpy to torch.Tensor"
      ]
    },
    {
      "cell_type": "code",
      "execution_count": null,
      "metadata": {
        "id": "fElRn3j8mstX"
      },
      "outputs": [],
      "source": [
        "X = torch.from_numpy(pos).to(device)\n",
        "y = torch.from_numpy(vel).to(device)"
      ]
    },
    {
      "cell_type": "code",
      "source": [
        "print(X[:ROBOTS_NUM, :])\n",
        "X.shape, y.shape"
      ],
      "metadata": {
        "colab": {
          "base_uri": "https://localhost:8080/"
        },
        "id": "nuKA3lQWIyUb",
        "outputId": "ed84e0af-81bf-4fba-bb94-9ba085d0a4f9"
      },
      "execution_count": null,
      "outputs": [
        {
          "output_type": "stream",
          "name": "stdout",
          "text": [
            "tensor([[11.9999, 12.0001],\n",
            "        [12.0000,  4.0001],\n",
            "        [ 4.0001,  3.9999],\n",
            "        [ 4.0000, 11.9999],\n",
            "        [ 2.0000,  7.9999],\n",
            "        [13.9998,  8.0002],\n",
            "        [ 0.0000,  0.0000],\n",
            "        [ 0.0000,  0.0000],\n",
            "        [ 0.0000,  0.0000],\n",
            "        [ 0.0000,  0.0000],\n",
            "        [ 0.0000,  0.0000],\n",
            "        [ 0.0000,  0.0000],\n",
            "        [ 0.0000,  0.0000],\n",
            "        [ 0.0000,  0.0000],\n",
            "        [ 0.0000,  0.0000],\n",
            "        [ 0.0000,  0.0000],\n",
            "        [ 0.0000,  0.0000],\n",
            "        [ 0.0000,  0.0000],\n",
            "        [ 0.0000,  0.0000],\n",
            "        [ 0.0000,  0.0000]], device='cuda:0')\n"
          ]
        },
        {
          "output_type": "execute_result",
          "data": {
            "text/plain": [
              "(torch.Size([404787, 2]), torch.Size([404787, 2]))"
            ]
          },
          "metadata": {},
          "execution_count": 18
        }
      ]
    },
    {
      "cell_type": "code",
      "source": [
        "# X, y = X[:-4], y[:-4]\n",
        "s = int(X.shape[0]/ROBOTS_NUM)\n",
        "\n",
        "X = X[:s*ROBOTS_NUM]\n",
        "y = y[:s*ROBOTS_NUM]"
      ],
      "metadata": {
        "id": "IQQnOGRVKVk1"
      },
      "execution_count": null,
      "outputs": []
    },
    {
      "cell_type": "code",
      "source": [
        "X = X.view(-1, 2*ROBOTS_NUM)\n",
        "y = y.view(-1, 2*ROBOTS_NUM)"
      ],
      "metadata": {
        "id": "12fJ3EIPLUXL"
      },
      "execution_count": null,
      "outputs": []
    },
    {
      "cell_type": "code",
      "execution_count": null,
      "metadata": {
        "id": "e7atkB4ZtVxx",
        "colab": {
          "base_uri": "https://localhost:8080/"
        },
        "outputId": "bf9aff90-7f07-4b9c-d236-0430f87d0867"
      },
      "outputs": [
        {
          "output_type": "execute_result",
          "data": {
            "text/plain": [
              "(torch.Size([20239, 40]), torch.Size([20239, 40]))"
            ]
          },
          "metadata": {},
          "execution_count": 21
        }
      ],
      "source": [
        "X.shape, y.shape"
      ]
    },
    {
      "cell_type": "markdown",
      "source": [
        "## Scale values"
      ],
      "metadata": {
        "id": "qgor3XIVnG9f"
      }
    },
    {
      "cell_type": "code",
      "source": [
        "from sklearn.preprocessing import MinMaxScaler\n",
        "\n",
        "# scaler = MinMaxScaler(feature_range=(-1,1))\n",
        "# X_scaled = scaler.fit_transform(X.cpu())\n",
        "# # y_scaled = scaler.fit_transform(y.cpu())\n",
        "# X_new = np.float32(X_scaled)\n",
        "# # y_new = y_scaled\n",
        "\n",
        "# X = torch.from_numpy(X_new)\n",
        "# print(type(X))\n",
        "# y = torch.from_numpy(y_new)"
      ],
      "metadata": {
        "id": "XaUF5gP6nIK_"
      },
      "execution_count": null,
      "outputs": []
    },
    {
      "cell_type": "markdown",
      "metadata": {
        "id": "JHuxxZf5dUH6"
      },
      "source": [
        "## Create train and test split"
      ]
    },
    {
      "cell_type": "code",
      "execution_count": null,
      "metadata": {
        "id": "sYw4KJztvpeI",
        "colab": {
          "base_uri": "https://localhost:8080/"
        },
        "outputId": "275a5ab8-63ac-4831-d22d-32c9d9b93549"
      },
      "outputs": [
        {
          "output_type": "execute_result",
          "data": {
            "text/plain": [
              "(torch.Size([16191, 40]),\n",
              " torch.Size([4048, 40]),\n",
              " torch.Size([16191, 40]),\n",
              " torch.Size([4048, 40]))"
            ]
          },
          "metadata": {},
          "execution_count": 23
        }
      ],
      "source": [
        "from sklearn.model_selection import train_test_split\n",
        "\n",
        "X_train, X_test, y_train, y_test = train_test_split(X,\n",
        "                                                   y,\n",
        "                                                   test_size=0.2)\n",
        "\n",
        "y_train = y_train.squeeze(1)\n",
        "y_test = y_test.squeeze(1)\n",
        "X_train.shape, X_test.shape, y_train.shape, y_test.shape"
      ]
    },
    {
      "cell_type": "code",
      "execution_count": null,
      "metadata": {
        "id": "8YErhSVZf1p9"
      },
      "outputs": [],
      "source": [
        "from torch.utils.data import TensorDataset, DataLoader\n",
        "\n",
        "# create TensorDatasets for training and testing sets\n",
        "train_dataset = TensorDataset(X_train, y_train)\n",
        "test_dataset = TensorDataset(X_test, y_test)\n",
        "\n",
        "# create DataLoaders\n",
        "batch_size = 64\n",
        "train_loader = DataLoader(train_dataset, batch_size=batch_size, shuffle=True)\n",
        "test_loader = DataLoader(test_dataset, batch_size=batch_size, shuffle=False)"
      ]
    },
    {
      "cell_type": "code",
      "execution_count": null,
      "metadata": {
        "id": "1ahRpSqsp9O9",
        "colab": {
          "base_uri": "https://localhost:8080/"
        },
        "outputId": "121de1cb-8788-41bb-b196-1a331635d8e2"
      },
      "outputs": [
        {
          "output_type": "stream",
          "name": "stdout",
          "text": [
            "torch.Size([64, 40]) torch.Size([64, 40])\n"
          ]
        }
      ],
      "source": [
        "for input, target in train_loader:\n",
        "  print(input.shape, target.shape)\n",
        "  break"
      ]
    },
    {
      "cell_type": "markdown",
      "metadata": {
        "id": "ifu_-G4Fgfq2"
      },
      "source": [
        "## Define neural network model"
      ]
    },
    {
      "cell_type": "code",
      "execution_count": null,
      "metadata": {
        "id": "vQNyU1ioxrHp"
      },
      "outputs": [],
      "source": [
        "class CoverageModel(nn.Module):\n",
        "  def __init__(self, input_size, output_size):\n",
        "    super().__init__()\n",
        "    self.input_size = input_size\n",
        "    self.output_size = output_size\n",
        "\n",
        "    self.fc1 = nn.Linear(input_size, 64)\n",
        "    self.fc2 = nn.Linear(64, 32)\n",
        "    self.fc3 = nn.Linear(32, output_size)\n",
        "    self.relu = nn.ReLU()\n",
        "    self.activation = nn.Sigmoid()\n",
        "\n",
        "  def forward(self, x):\n",
        "    x = self.activation(self.fc1(x))\n",
        "    x = self.activation(self.fc2(x))\n",
        "    x = self.fc3(x)\n",
        "\n",
        "    return x"
      ]
    },
    {
      "cell_type": "code",
      "source": [
        "class DynamicCoverageModel(nn.Module):\n",
        "  def __init__(self, max_size):\n",
        "    super().__init__()\n",
        "    self.max_size = max_size\n",
        "    self.input_size = max_size\n",
        "    self.output_size = max_size\n",
        "\n",
        "    self.fc1 = nn.Linear(self.input_size, 64)\n",
        "    self.fc2 = nn.Linear(64, 32)\n",
        "    self.fc3 = nn.Linear(32, self.output_size)\n",
        "    self.relu = nn.ReLU()\n",
        "    self.activation = nn.Tanh()\n",
        "\n",
        "  def reshape(self, x):\n",
        "    (x == 100.0).nonzero(as_tuple=True)\n",
        "\n",
        "    size = x.shape[1]\n",
        "    self.input_size = size\n",
        "    self.output_size = size\n",
        "\n",
        "    self.fc1 = nn.Linear(self.input_size, 64)\n",
        "    self.fc3 = nn.Linear(32, self.output_size)\n",
        "\n",
        "  def forward(self, x):\n",
        "    self.reshape(x)\n",
        "    x = self.activation(self.fc1(x))\n",
        "    x = self.activation(self.fc2(x))\n",
        "    x = self.fc3(x)\n",
        "\n",
        "    return x"
      ],
      "metadata": {
        "id": "-Xb8NZzhRyLp"
      },
      "execution_count": null,
      "outputs": []
    },
    {
      "cell_type": "code",
      "source": [
        "class CoverageModel2(nn.Module):\n",
        "  def __init__(self, input_size, output_size):\n",
        "    super().__init__()\n",
        "    self.input_size = input_size\n",
        "    self.output_size = output_size\n",
        "\n",
        "    self.fc1 = nn.Linear(input_size, 256)\n",
        "    self.fc2 = nn.Linear(256, 128)\n",
        "    self.fc3 = nn.Linear(128, 64)\n",
        "    self.fc4 = nn.Linear(64, 32)\n",
        "    self.fc5 = nn.Linear(32, output_size)\n",
        "    self.relu = nn.ReLU()\n",
        "    # self.activation = nn.Sigmoid()\n",
        "    self.activation = nn.Tanh()\n",
        "\n",
        "\n",
        "  def forward(self, x):\n",
        "    x = self.activation(self.fc1(x))\n",
        "    x = self.activation(self.fc2(x))\n",
        "    x = self.activation(self.fc3(x))\n",
        "    x = self.activation(self.fc4(x))\n",
        "    x = self.fc5(x)\n",
        "\n",
        "    # x[:, 4] = x[:, 3]\n",
        "\n",
        "    # cov_matrix = x[:, 2:]\n",
        "    # cov_matrix = cov_matrix.view(-1, 2, 2)\n",
        "    # scaled_cov_matrix = cov_matrix * self.scale_param\n",
        "    # scaled_cov_matrix = scaled_cov_matrix.view(-1, 4)\n",
        "\n",
        "    # out = torch.cat((x[:, :2], scaled_cov_matrix), dim=1)\n",
        "\n",
        "    return x"
      ],
      "metadata": {
        "id": "KcS7nQ_YXh5v"
      },
      "execution_count": null,
      "outputs": []
    },
    {
      "cell_type": "markdown",
      "metadata": {
        "id": "jtmGxLURgbeZ"
      },
      "source": [
        "## Training"
      ]
    },
    {
      "cell_type": "code",
      "execution_count": null,
      "metadata": {
        "id": "6_r3ETDpx7j0"
      },
      "outputs": [],
      "source": [
        "model = CoverageModel2(2 * ROBOTS_NUM, 2 * ROBOTS_NUM)\n",
        "model = model.to(device)\n",
        "loss_fn = nn.MSELoss()\n",
        "optimizer = torch.optim.Adam(model.parameters(), lr=0.001)\n",
        "\n",
        "RUN_BATCHED = False"
      ]
    },
    {
      "cell_type": "markdown",
      "metadata": {
        "id": "gyU-eUOgvT7B"
      },
      "source": [
        "## Train on unbatched data"
      ]
    },
    {
      "cell_type": "code",
      "execution_count": null,
      "metadata": {
        "id": "nxgwi6cDvTtg",
        "colab": {
          "base_uri": "https://localhost:8080/"
        },
        "outputId": "6b9ea104-dfc1-4093-f6e0-b5aeb7774647"
      },
      "outputs": [
        {
          "output_type": "stream",
          "name": "stdout",
          "text": [
            "output shape: torch.Size([16191, 40])\n",
            "Target shape: torch.Size([16191, 40])\n",
            "Epoch: 0 | Loss: 0.11452756822109222 | Test loss: 0.10319188237190247\n",
            "Epoch: 100 | Loss: 0.03082512505352497 | Test loss: 0.030845988541841507\n",
            "Epoch: 200 | Loss: 0.022654809057712555 | Test loss: 0.023770689964294434\n",
            "Epoch: 300 | Loss: 0.017855873331427574 | Test loss: 0.019563570618629456\n",
            "Epoch: 400 | Loss: 0.014604618772864342 | Test loss: 0.017032278701663017\n",
            "Epoch: 500 | Loss: 0.012500733137130737 | Test loss: 0.015271440148353577\n",
            "Epoch: 600 | Loss: 0.011033228598535061 | Test loss: 0.014096787199378014\n",
            "Epoch: 700 | Loss: 0.010036736726760864 | Test loss: 0.01329695526510477\n",
            "Epoch: 800 | Loss: 0.008993671275675297 | Test loss: 0.012430417351424694\n",
            "Epoch: 900 | Loss: 0.008301095105707645 | Test loss: 0.011887994594871998\n",
            "Epoch: 1000 | Loss: 0.007871937938034534 | Test loss: 0.01159518864005804\n",
            "Epoch: 1100 | Loss: 0.007370845414698124 | Test loss: 0.01117516029626131\n",
            "Epoch: 1200 | Loss: 0.0068323006853461266 | Test loss: 0.010754079557955265\n",
            "Epoch: 1300 | Loss: 0.006462868768721819 | Test loss: 0.010469590313732624\n",
            "Epoch: 1400 | Loss: 0.006215299945324659 | Test loss: 0.01030371617525816\n",
            "Epoch: 1500 | Loss: 0.005878536496311426 | Test loss: 0.010019750334322453\n",
            "Epoch: 1600 | Loss: 0.0057023256085813046 | Test loss: 0.009893740527331829\n",
            "Epoch: 1700 | Loss: 0.005434911698102951 | Test loss: 0.009718877263367176\n",
            "Epoch: 1800 | Loss: 0.005233980715274811 | Test loss: 0.0095678037032485\n",
            "Epoch: 1900 | Loss: 0.005104847718030214 | Test loss: 0.009529439732432365\n",
            "Epoch: 2000 | Loss: 0.005005648825317621 | Test loss: 0.009470485150814056\n",
            "Epoch: 2100 | Loss: 0.004819901660084724 | Test loss: 0.009270435199141502\n",
            "Epoch: 2200 | Loss: 0.004672756884247065 | Test loss: 0.009149715304374695\n",
            "Epoch: 2300 | Loss: 0.004553011618554592 | Test loss: 0.009046191349625587\n",
            "Epoch: 2400 | Loss: 0.004522392526268959 | Test loss: 0.009052449837327003\n",
            "Epoch: 2500 | Loss: 0.004386730492115021 | Test loss: 0.008931564167141914\n",
            "Epoch: 2600 | Loss: 0.004273989237844944 | Test loss: 0.008844781666994095\n",
            "Epoch: 2700 | Loss: 0.004351519979536533 | Test loss: 0.008963783271610737\n",
            "Epoch: 2800 | Loss: 0.004135129041969776 | Test loss: 0.00871863029897213\n",
            "Epoch: 2900 | Loss: 0.00406505586579442 | Test loss: 0.008669660426676273\n",
            "Epoch: 3000 | Loss: 0.0040246485732495785 | Test loss: 0.008632783778011799\n",
            "Epoch: 3100 | Loss: 0.003946962766349316 | Test loss: 0.008564796298742294\n",
            "Epoch: 3200 | Loss: 0.00407444266602397 | Test loss: 0.008753685280680656\n",
            "Epoch: 3300 | Loss: 0.0038535844068974257 | Test loss: 0.008505105972290039\n",
            "Epoch: 3400 | Loss: 0.0038747508078813553 | Test loss: 0.008527688682079315\n",
            "Epoch: 3500 | Loss: 0.003773377276957035 | Test loss: 0.008447031490504742\n",
            "Epoch: 3600 | Loss: 0.0037281846161931753 | Test loss: 0.008408922702074051\n",
            "Epoch: 3700 | Loss: 0.003719828324392438 | Test loss: 0.008418929763138294\n",
            "Epoch: 3800 | Loss: 0.0036965119652450085 | Test loss: 0.00840521976351738\n",
            "Epoch: 3900 | Loss: 0.0036281533539295197 | Test loss: 0.008338278159499168\n",
            "Epoch: 4000 | Loss: 0.003601326374337077 | Test loss: 0.008312709629535675\n",
            "Epoch: 4100 | Loss: 0.0035820440389215946 | Test loss: 0.008342266082763672\n",
            "Epoch: 4200 | Loss: 0.0037811356596648693 | Test loss: 0.008379440754652023\n",
            "Epoch: 4300 | Loss: 0.0035475995391607285 | Test loss: 0.008290121331810951\n",
            "Epoch: 4400 | Loss: 0.0035067289136350155 | Test loss: 0.008271606639027596\n",
            "Epoch: 4500 | Loss: 0.003443209221586585 | Test loss: 0.008214136585593224\n",
            "Epoch: 4600 | Loss: 0.0033990934025496244 | Test loss: 0.008179177530109882\n",
            "Epoch: 4700 | Loss: 0.0034571781288832426 | Test loss: 0.0082520991563797\n",
            "Epoch: 4800 | Loss: 0.003416529158130288 | Test loss: 0.008203056640923023\n",
            "Epoch: 4900 | Loss: 0.0033958423882722855 | Test loss: 0.008184964768588543\n",
            "Epoch: 5000 | Loss: 0.0033089604694396257 | Test loss: 0.008107887580990791\n",
            "Epoch: 5100 | Loss: 0.003327983897179365 | Test loss: 0.008142865262925625\n",
            "Epoch: 5200 | Loss: 0.0032330797985196114 | Test loss: 0.008038895204663277\n",
            "Epoch: 5300 | Loss: 0.003268787171691656 | Test loss: 0.00809441227465868\n",
            "Epoch: 5400 | Loss: 0.003245928091928363 | Test loss: 0.00811020191758871\n",
            "Epoch: 5500 | Loss: 0.0032179863192141056 | Test loss: 0.00806055311113596\n",
            "Epoch: 5600 | Loss: 0.003198516322299838 | Test loss: 0.008035083301365376\n",
            "Epoch: 5700 | Loss: 0.003310563275590539 | Test loss: 0.008153846487402916\n",
            "Epoch: 5800 | Loss: 0.0032355983275920153 | Test loss: 0.00804723147302866\n",
            "Epoch: 5900 | Loss: 0.0032797977328300476 | Test loss: 0.008131257258355618\n",
            "Epoch: 6000 | Loss: 0.003128603333607316 | Test loss: 0.007976044900715351\n",
            "Epoch: 6100 | Loss: 0.0031236119102686644 | Test loss: 0.007977452129125595\n",
            "Epoch: 6200 | Loss: 0.003077469067648053 | Test loss: 0.007949624210596085\n",
            "Epoch: 6300 | Loss: 0.00309369876049459 | Test loss: 0.007941734977066517\n",
            "Epoch: 6400 | Loss: 0.0031992935109883547 | Test loss: 0.008141928352415562\n",
            "Epoch: 6500 | Loss: 0.003123262897133827 | Test loss: 0.008028198964893818\n",
            "Epoch: 6600 | Loss: 0.00299448543228209 | Test loss: 0.007885435596108437\n",
            "Epoch: 6700 | Loss: 0.003021689597517252 | Test loss: 0.007924022153019905\n",
            "Epoch: 6800 | Loss: 0.003093544626608491 | Test loss: 0.007981336675584316\n",
            "Epoch: 6900 | Loss: 0.003144331742078066 | Test loss: 0.008005281910300255\n",
            "Epoch: 7000 | Loss: 0.003047150792554021 | Test loss: 0.007947154343128204\n",
            "Epoch: 7100 | Loss: 0.0030800867825746536 | Test loss: 0.008010472171008587\n",
            "Epoch: 7200 | Loss: 0.002939556259661913 | Test loss: 0.007856995798647404\n",
            "Epoch: 7300 | Loss: 0.002951965667307377 | Test loss: 0.007865901105105877\n",
            "Epoch: 7400 | Loss: 0.003040366806089878 | Test loss: 0.007931987755000591\n",
            "Epoch: 7500 | Loss: 0.0030119961593300104 | Test loss: 0.007964923046529293\n",
            "Epoch: 7600 | Loss: 0.002894212491810322 | Test loss: 0.007821778766810894\n",
            "Epoch: 7700 | Loss: 0.002885728143155575 | Test loss: 0.00781494565308094\n",
            "Epoch: 7800 | Loss: 0.002910238690674305 | Test loss: 0.007863524369895458\n",
            "Epoch: 7900 | Loss: 0.0028883866034448147 | Test loss: 0.00783548690378666\n",
            "Epoch: 8000 | Loss: 0.0028643154073506594 | Test loss: 0.00781082920730114\n",
            "Epoch: 8100 | Loss: 0.0029198843985795975 | Test loss: 0.007847265340387821\n",
            "Epoch: 8200 | Loss: 0.00283311796374619 | Test loss: 0.007794045843183994\n",
            "Epoch: 8300 | Loss: 0.0029964845161885023 | Test loss: 0.007968745194375515\n",
            "Epoch: 8400 | Loss: 0.0028758570551872253 | Test loss: 0.007868053391575813\n",
            "Epoch: 8500 | Loss: 0.0029055422637611628 | Test loss: 0.007907128892838955\n",
            "Epoch: 8600 | Loss: 0.00307691958732903 | Test loss: 0.008070381358265877\n",
            "Epoch: 8700 | Loss: 0.0027865711599588394 | Test loss: 0.007762904278934002\n",
            "Epoch: 8800 | Loss: 0.002920598490163684 | Test loss: 0.007933691143989563\n",
            "Epoch: 8900 | Loss: 0.0027766774874180555 | Test loss: 0.007771040312945843\n",
            "Epoch: 9000 | Loss: 0.002834800397977233 | Test loss: 0.007841586135327816\n",
            "Epoch: 9100 | Loss: 0.0028446856886148453 | Test loss: 0.007862805388867855\n",
            "Epoch: 9200 | Loss: 0.0028107385151088238 | Test loss: 0.007823637686669827\n",
            "Epoch: 9300 | Loss: 0.0027629018295556307 | Test loss: 0.007777601946145296\n",
            "Epoch: 9400 | Loss: 0.002764002652838826 | Test loss: 0.007800724823027849\n",
            "Epoch: 9500 | Loss: 0.0027760956436395645 | Test loss: 0.007818799465894699\n",
            "Epoch: 9600 | Loss: 0.00273713655769825 | Test loss: 0.007753991521894932\n",
            "Epoch: 9700 | Loss: 0.0027677661273628473 | Test loss: 0.007821430452167988\n",
            "Epoch: 9800 | Loss: 0.0028087273240089417 | Test loss: 0.007823973894119263\n",
            "Epoch: 9900 | Loss: 0.0027720164507627487 | Test loss: 0.007834166288375854\n"
          ]
        }
      ],
      "source": [
        "if not RUN_BATCHED:\n",
        "  epochs = 10000\n",
        "  epsilon = 0.01\n",
        "\n",
        "  for epoch in range(epochs):\n",
        "    model.train()\n",
        "    y_pred = model(X_train)\n",
        "    if epoch == 0:\n",
        "      print(f\"output shape: {y_pred.shape}\")\n",
        "      print(f\"Target shape: {y_train.shape}\")\n",
        "    loss = loss_fn(y_pred, y_train)\n",
        "    torch.autograd.set_detect_anomaly(True)\n",
        "    optimizer.zero_grad()\n",
        "    loss.backward()\n",
        "    optimizer.step()\n",
        "\n",
        "    ### Testing\n",
        "    model.eval()\n",
        "    with torch.inference_mode():\n",
        "      test_pred = model(X_test)\n",
        "      test_loss = loss_fn(test_pred, y_test)\n",
        "\n",
        "    if epoch % 100 == 0:\n",
        "      print(f\"Epoch: {epoch} | Loss: {loss.item()} | Test loss: {test_loss.item()}\")"
      ]
    },
    {
      "cell_type": "code",
      "source": [
        "# for name, param in model.named_parameters():\n",
        "#   if param.requires_grad:\n",
        "#     print(name, param)"
      ],
      "metadata": {
        "id": "LlzgnpI8iiK1"
      },
      "execution_count": null,
      "outputs": []
    },
    {
      "cell_type": "markdown",
      "metadata": {
        "id": "Rvz1wWRh-zt4"
      },
      "source": [
        "## Test on simulated robots"
      ]
    },
    {
      "cell_type": "code",
      "execution_count": null,
      "metadata": {
        "id": "Q9p3vR1d-2ZW",
        "colab": {
          "base_uri": "https://localhost:8080/",
          "height": 777
        },
        "outputId": "8c86a97d-fedf-41a5-8433-0fed4f1ec340"
      },
      "outputs": [
        {
          "output_type": "execute_result",
          "data": {
            "text/plain": [
              "array([[-6.618627  , -8.496084  ],\n",
              "       [ 6.0668855 , -2.8177881 ],\n",
              "       [-5.747643  ,  1.044538  ],\n",
              "       [ 6.4655375 , -5.4303374 ],\n",
              "       [-3.361585  , -4.696179  ],\n",
              "       [ 0.93763906, -8.8829155 ],\n",
              "       [ 0.        ,  0.        ],\n",
              "       [ 0.        ,  0.        ],\n",
              "       [ 0.        ,  0.        ],\n",
              "       [ 0.        ,  0.        ],\n",
              "       [ 0.        ,  0.        ],\n",
              "       [ 0.        ,  0.        ],\n",
              "       [ 0.        ,  0.        ],\n",
              "       [ 0.        ,  0.        ],\n",
              "       [ 0.        ,  0.        ],\n",
              "       [ 0.        ,  0.        ],\n",
              "       [ 0.        ,  0.        ],\n",
              "       [ 0.        ,  0.        ],\n",
              "       [ 0.        ,  0.        ],\n",
              "       [ 0.        ,  0.        ]], dtype=float32)"
            ]
          },
          "metadata": {},
          "execution_count": 31
        },
        {
          "output_type": "display_data",
          "data": {
            "text/plain": [
              "<Figure size 640x480 with 1 Axes>"
            ],
            "image/png": "[encoded data removed]"
          },
          "metadata": {}
        }
      ],
      "source": [
        "import random\n",
        "N_ROBOTS = 6\n",
        "robots = np.zeros((N_ROBOTS, 2), dtype=\"float32\")\n",
        "for i in range(N_ROBOTS):\n",
        "  robots[i, :] = -10.0 + 20.0 * np.random.rand(1, 2)\n",
        "\n",
        "robots_dummy = np.zeros((ROBOTS_NUM, 2), dtype=\"float32\")\n",
        "robots_dummy[:N_ROBOTS, :] = robots\n",
        "# robots = np.array(([-4.0, 4.0],\n",
        "#                   [-4.0, -4.0],\n",
        "#                   [4.0, -4.0],\n",
        "#                   [4.0, 4.0],\n",
        "#                   [6.0, 0.0],\n",
        "#                   [-6.0, 0.0]),\n",
        "#                   dtype=\"float32\")\n",
        "\n",
        "# robots = robots - 8.0\n",
        "plt.scatter(robots[:, 0], robots[:, 1])\n",
        "Xt = torch.from_numpy(robots_dummy)\n",
        "Xt = Xt.view(-1, ROBOTS_NUM*2)\n",
        "Xt = Xt.to(device)\n",
        "\n",
        "robots_dummy[:ROBOTS_NUM, :]"
      ]
    },
    {
      "cell_type": "code",
      "source": [
        "Xt[0, 0]"
      ],
      "metadata": {
        "id": "J6j-HevAO2JE",
        "colab": {
          "base_uri": "https://localhost:8080/"
        },
        "outputId": "725fd900-190d-4f18-dfe7-af0d3d10e07f"
      },
      "execution_count": null,
      "outputs": [
        {
          "output_type": "execute_result",
          "data": {
            "text/plain": [
              "tensor(-8.3136, device='cuda:0')"
            ]
          },
          "metadata": {},
          "execution_count": 121
        }
      ]
    },
    {
      "cell_type": "markdown",
      "metadata": {
        "id": "vpiZWVcbIHmc"
      },
      "source": [
        "## Forecast next steps"
      ]
    },
    {
      "cell_type": "code",
      "source": [
        "NUM_STEPS = 500\n",
        "dt = 0.2\n",
        "\n",
        "X_hist = [Xt]\n",
        "# v_hist = []\n",
        "\n",
        "r_hist = []"
      ],
      "metadata": {
        "id": "WajxxktrkoFW"
      },
      "execution_count": null,
      "outputs": []
    },
    {
      "cell_type": "code",
      "execution_count": null,
      "metadata": {
        "id": "lCtXA0HaoalO",
        "colab": {
          "base_uri": "https://localhost:8080/"
        },
        "outputId": "ce311238-255b-4eaa-a547-0140a00742e5"
      },
      "outputs": [
        {
          "output_type": "stream",
          "name": "stdout",
          "text": [
            "torch.Size([500, 20, 2])\n"
          ]
        }
      ],
      "source": [
        "for i in range(ROBOTS_NUM):\n",
        "  r = []\n",
        "  r_hist.append(r)\n",
        "\n",
        "robots_hist = torch.Tensor(NUM_STEPS, ROBOTS_NUM, 2)\n",
        "print(robots_hist.shape)\n",
        "\n",
        "for i in range(NUM_STEPS):\n",
        "  # get velocity\n",
        "  v_pred = model(Xt)\n",
        "  # print(f\"Vpred : {v_pred}\")\n",
        "\n",
        "  # move robots\n",
        "  # v = v_pred.view(ROBOTS_NUM, 2)\n",
        "\n",
        "  # for j in range(2*ROBOTS_NUM):\n",
        "  Xt[0, :] = Xt[0, :] + v_pred[0, :] * dt\n",
        "  # print(f\"Actual Xt: {Xt}\")\n",
        "\n",
        "  xp = Xt.view(ROBOTS_NUM, 2)\n",
        "  for j in range(ROBOTS_NUM):\n",
        "    robots_hist[i, j, :] = xp[j, :]\n",
        "\n",
        "  X_hist.append(Xt)\n",
        "\n",
        "\n",
        "\n"
      ]
    },
    {
      "cell_type": "code",
      "source": [
        "robots_hist[:, 0, :]"
      ],
      "metadata": {
        "id": "5Yb1cXjUTgiT",
        "colab": {
          "base_uri": "https://localhost:8080/"
        },
        "outputId": "297c4496-7627-489c-9df0-923979dd433c"
      },
      "execution_count": null,
      "outputs": [
        {
          "output_type": "execute_result",
          "data": {
            "text/plain": [
              "tensor([[-8.2783,  6.1643],\n",
              "        [-8.2473,  6.1706],\n",
              "        [-8.2208,  6.1781],\n",
              "        ...,\n",
              "        [-4.1591,  0.1472],\n",
              "        [-4.1314,  0.1559],\n",
              "        [-4.1039,  0.1645]], grad_fn=<SliceBackward0>)"
            ]
          },
          "metadata": {},
          "execution_count": 124
        }
      ]
    },
    {
      "cell_type": "code",
      "source": [
        "for i in range(N_ROBOTS):\n",
        "  plt.plot(robots_hist[:, i, 0].cpu().detach().numpy(), robots_hist[:, i, 1].cpu().detach().numpy())\n",
        "\n",
        "  # for i in range(ROBOTS_NUM):\n",
        "  plt.scatter(robots_hist[-1, i, 0].cpu().detach().numpy(), robots_hist[-1, i, 1].cpu().detach().numpy())\n",
        "\n",
        "plt.plot(0.0, 0.0, '*')"
      ],
      "metadata": {
        "id": "Thl9KTJtPig-",
        "colab": {
          "base_uri": "https://localhost:8080/",
          "height": 447
        },
        "outputId": "db6700a2-cc21-4246-eb60-0bc67400e805"
      },
      "execution_count": null,
      "outputs": [
        {
          "output_type": "execute_result",
          "data": {
            "text/plain": [
              "[<matplotlib.lines.Line2D at 0x7ca6ce822740>]"
            ]
          },
          "metadata": {},
          "execution_count": 34
        },
        {
          "output_type": "display_data",
          "data": {
            "text/plain": [
              "<Figure size 640x480 with 1 Axes>"
            ],
            "image/png": "[encoded data removed]"
          },
          "metadata": {}
        }
      ]
    },
    {
      "cell_type": "markdown",
      "source": [
        "## Plot final position"
      ],
      "metadata": {
        "id": "mI-smGDZaN_P"
      }
    },
    {
      "cell_type": "code",
      "source": [
        "for i in range(N_ROBOTS):\n",
        "  plt.scatter(robots_hist[-1, i, 0].cpu().detach().numpy(), robots_hist[-1, i, 1].cpu().detach().numpy())\n",
        "\n",
        "plt.plot(0.0, 0.0, '*')"
      ],
      "metadata": {
        "colab": {
          "base_uri": "https://localhost:8080/",
          "height": 447
        },
        "id": "_JYL7wMaaPJL",
        "outputId": "e25f019c-1396-422c-b624-a41fe225b9eb"
      },
      "execution_count": null,
      "outputs": [
        {
          "output_type": "execute_result",
          "data": {
            "text/plain": [
              "[<matplotlib.lines.Line2D at 0x7ca695063010>]"
            ]
          },
          "metadata": {},
          "execution_count": 35
        },
        {
          "output_type": "display_data",
          "data": {
            "text/plain": [
              "<Figure size 640x480 with 1 Axes>"
            ],
            "image/png": "[encoded data removed]"
          },
          "metadata": {}
        }
      ]
    }
  ],
  "metadata": {
    "colab": {
      "provenance": [],
      "gpuType": "T4",
      "include_colab_link": true
    },
    "kernelspec": {
      "display_name": "Python 3",
      "name": "python3"
    },
    "language_info": {
      "name": "python"
    },
    "accelerator": "GPU"
  },
  "nbformat": 4,
  "nbformat_minor": 0
}