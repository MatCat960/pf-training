{
  "cells": [
    {
      "cell_type": "markdown",
      "metadata": {
        "id": "view-in-github",
        "colab_type": "text"
      },
      "source": [
        "<a href=\"https://colab.research.google.com/github/MatCat960/pf-training/blob/main/15_rnn_coverage_dynamic_vel_learning.ipynb\" target=\"_parent\"><img src=\"https://colab.research.google.com/assets/colab-badge.svg\" alt=\"Open In Colab\"/></a>"
      ]
    },
    {
      "cell_type": "markdown",
      "metadata": {
        "id": "4mAAf6n8RKip"
      },
      "source": [
        "# Training a Neural Network to perform distributed Coverage **with unknown number of robots**"
      ]
    },
    {
      "cell_type": "code",
      "execution_count": 1,
      "metadata": {
        "id": "Yk7wMJP1FG5X"
      },
      "outputs": [],
      "source": [
        "import torch\n",
        "from torch import nn\n",
        "import torch.nn.functional as F\n",
        "import matplotlib.pyplot as plt\n",
        "import numpy as np\n",
        "import math\n",
        "\n",
        "from pathlib import Path\n",
        "from copy import deepcopy as dc"
      ]
    },
    {
      "cell_type": "code",
      "execution_count": 2,
      "metadata": {
        "colab": {
          "base_uri": "https://localhost:8080/"
        },
        "id": "0BkQOvegm_vc",
        "outputId": "4d7bb52f-67dd-484f-cdd0-b0d3beeaa990"
      },
      "outputs": [
        {
          "output_type": "stream",
          "name": "stdout",
          "text": [
            "Using device: cuda\n"
          ]
        }
      ],
      "source": [
        "# Setup device agnostic code\n",
        "device = 'cuda' if torch.cuda.is_available() else 'cpu'\n",
        "\n",
        "print(f\"Using device: {device}\")"
      ]
    },
    {
      "cell_type": "code",
      "execution_count": 3,
      "metadata": {
        "colab": {
          "base_uri": "https://localhost:8080/"
        },
        "id": "i4n22Qc7jcos",
        "outputId": "28366344-113f-4f0a-eb91-6a944de41362"
      },
      "outputs": [
        {
          "output_type": "stream",
          "name": "stdout",
          "text": [
            "Mounted at /content/drive\n"
          ]
        }
      ],
      "source": [
        "from google.colab import drive\n",
        "drive.mount('/content/drive')"
      ]
    },
    {
      "cell_type": "code",
      "execution_count": 4,
      "metadata": {
        "id": "DlGZQeSicVds"
      },
      "outputs": [],
      "source": [
        "path = Path(\"/content/drive/MyDrive/Colab Notebooks/PyTorch tutorial/dynamic_coverage_vel3\").glob('**/*')\n",
        "# path = Path(\"/content/drive/MyDrive/Colab Notebooks/PyTorch tutorial/dynamic_coverage_vel/log_6_robots.txt\")\n",
        "files = [x for x in path if x.is_file()]"
      ]
    },
    {
      "cell_type": "code",
      "execution_count": 5,
      "metadata": {
        "colab": {
          "base_uri": "https://localhost:8080/"
        },
        "id": "Kd-7nUFW3Wmi",
        "outputId": "d28568ee-87a2-44ee-ddde-0ae0c8ddd4b9"
      },
      "outputs": [
        {
          "output_type": "execute_result",
          "data": {
            "text/plain": [
              "31"
            ]
          },
          "metadata": {},
          "execution_count": 5
        }
      ],
      "source": [
        "len(files)"
      ]
    },
    {
      "cell_type": "code",
      "execution_count": 6,
      "metadata": {
        "id": "OEu4NKbsgvAl"
      },
      "outputs": [],
      "source": [
        "ROBOTS_NUM = 20\n",
        "lookback = 7\n",
        "AREA_W = 30.0\n",
        "AREA_H = 30.0\n",
        "GRID_STEPS = 64\n",
        "ROBOT_RANGE = 15.0\n",
        "ROBOT_FOV = 120.0"
      ]
    },
    {
      "cell_type": "markdown",
      "metadata": {
        "id": "olezhXsuZ2kK"
      },
      "source": [
        "## Utility Functions"
      ]
    },
    {
      "cell_type": "code",
      "execution_count": 7,
      "metadata": {
        "id": "UvkdGnEgm1lu"
      },
      "outputs": [],
      "source": [
        "def in_fov(robot, target, fov, range):\n",
        "  fov_rad = fov * math.pi / 180.0\n",
        "  xr = robot[0]\n",
        "  yr = robot[1]\n",
        "  phi = robot[2]\n",
        "  dx = target[0] - xr\n",
        "  dy = target[1] - yr\n",
        "  dist = math.sqrt(dx**2 + dy**2)\n",
        "  if dist > range:\n",
        "    return 0\n",
        "\n",
        "  xrel = dx * math.cos(phi) + dy * math.sin(phi)\n",
        "  yrel = -dy * math.sin(phi) + dy * math.cos(phi)\n",
        "  angle = abs(math.atan2(yrel, xrel))\n",
        "  if (angle <= fov_rad) and (xrel >= 0.0):\n",
        "    return 1\n",
        "  else:\n",
        "    return 0"
      ]
    },
    {
      "cell_type": "code",
      "execution_count": 8,
      "metadata": {
        "id": "i5BdD78MDY7B"
      },
      "outputs": [],
      "source": [
        "def gauss_pdf(x, y, means, covs):\n",
        "  \"\"\"\n",
        "  Calculate the probability in the cell (x,y)\n",
        "\n",
        "  Args:\n",
        "    x (float) : x coord of the considered point\n",
        "    y (float) : y coord of the considered point\n",
        "    means (list(np.array)) : list of mean points\n",
        "    covs (list(np.array)) : list of covariance matrices\n",
        "  \"\"\"\n",
        "\n",
        "  prob = 0.0\n",
        "  for i in range(len(means)):\n",
        "    m = means[i]\n",
        "    cov = covs[i]\n",
        "    exp = -0.5 * np.sum"
      ]
    },
    {
      "cell_type": "code",
      "execution_count": 9,
      "metadata": {
        "id": "LWYZVbxbE2Eh"
      },
      "outputs": [],
      "source": [
        "# X, Y : meshgrid\n",
        "def multigauss_pdf(X, Y, means, sigmas):\n",
        "  # Flatten the meshgrid coordinates\n",
        "  points = np.column_stack([X.flatten(), Y.flatten()])\n",
        "\n",
        "  # Number of components in the mixture model\n",
        "  num_components = len(means)\n",
        "\n",
        "\n",
        "  # Initialize the probabilities\n",
        "  probabilities = np.zeros_like(X)\n",
        "\n",
        "  # Calculate the probability for each component\n",
        "  for i in range(num_components):\n",
        "      mean = means[i]\n",
        "      covariance = sigmas[i]\n",
        "\n",
        "      # Calculate the multivariate Gaussian probability\n",
        "      exponent = -0.5 * np.sum((points - mean) @ np.linalg.inv(covariance) * (points - mean), axis=1)\n",
        "      coefficient = 1 / np.sqrt((2 * np.pi) ** 2 * np.linalg.det(covariance))\n",
        "      component_prob = coefficient * np.exp(exponent)\n",
        "\n",
        "      # Add the component probability weighted by its weight\n",
        "      probabilities += component_prob.reshape(X.shape)\n",
        "\n",
        "  return probabilities"
      ]
    },
    {
      "cell_type": "code",
      "execution_count": 10,
      "metadata": {
        "id": "LsjwmGcbT41u"
      },
      "outputs": [],
      "source": [
        "def plot_fov(fov_deg, radius, ax):\n",
        "  # fig = plt.figure(figsize=(6,6))\n",
        "  # plt.scatter(neighs[:, 0], neighs[:, 1], marker='*')\n",
        "\n",
        "  x1 = np.array([0.0, 0.0, 0.0])\n",
        "  fov = fov_deg * math.pi / 180\n",
        "  arc_theta = np.arange(-0.5*fov, 0.5*fov, 0.01*math.pi)\n",
        "  th = np.arange(fov/2, 2*math.pi+fov/2, 0.01*math.pi)\n",
        "\n",
        "  # FOV\n",
        "  xfov = radius * np.cos(arc_theta)\n",
        "  xfov = np.append(x1[0], xfov)\n",
        "  xfov = np.append(xfov, x1[0])\n",
        "  yfov = radius * np.sin(arc_theta)\n",
        "  yfov = np.append(x1[1], yfov)\n",
        "  yfov = np.append(yfov, x1[1])\n",
        "  ax.plot(xfov, yfov)"
      ]
    },
    {
      "cell_type": "code",
      "execution_count": 11,
      "metadata": {
        "id": "2PIvxb1CkxU0"
      },
      "outputs": [],
      "source": [
        "def generate_sequence_tensor(original_tensor, sequence_length=5):\n",
        "    num_samples, cols = original_tensor.shape\n",
        "    sequence_tensor = torch.zeros(num_samples, sequence_length, cols)\n",
        "\n",
        "    # sequence_tensor[:, 0, :, :, :] = original_tensor.roll(0, dims=0)\n",
        "    for i in range(0, sequence_length):\n",
        "        sequence_tensor[:, i, :] = original_tensor.roll(-i, dims=0)\n",
        "\n",
        "    return sequence_tensor"
      ]
    },
    {
      "cell_type": "code",
      "execution_count": 12,
      "metadata": {
        "id": "uYCCv4yH-6FE"
      },
      "outputs": [],
      "source": [
        "from numpy import linalg as LA\n",
        "\n",
        "def plot_ellipse(ctr, cov, ax, s=4.605):\n",
        "  \"\"\"\n",
        "  Args:\n",
        "    ctr (np.array(1, 2)): center of the ellipse\n",
        "    cov (np.array(2, 2)): covariance matrix\n",
        "    s (double): confidence interval\n",
        "  \"\"\"\n",
        "\n",
        "  epsilon = 0.01\n",
        "\n",
        "  eigenvalues, eigenvectors = LA.eigh(cov)\n",
        "  eigenvalues = eigenvalues + epsilon\n",
        "  # print(f\"Eigenvalues: {eigenvalues}\")\n",
        "  # if eigenvalues[0] < 0.0 or eigenvalues[1] < 0.0:\n",
        "  #   print(f\"Cov matrix: {cov}\")\n",
        "  #   print(f\"Eigenvalues: {eigenvalues}\")\n",
        "  # eigenvalues[eigenvalues < 0.0] = 0.1\n",
        "  a = math.sqrt(s*abs(eigenvalues[0]))\n",
        "  b = math.sqrt(s*abs(eigenvalues[1]))\n",
        "\n",
        "  if (a < b):\n",
        "    temp = dc(a)\n",
        "    a = dc(b)\n",
        "    b = temp\n",
        "\n",
        "  print(f\"Major axis: {a}\")\n",
        "\n",
        "  m = 0\n",
        "  l = 1\n",
        "  if eigenvalues[1] > eigenvalues[0]:\n",
        "    m = 1\n",
        "    l = 0\n",
        "\n",
        "  theta = math.atan2(eigenvectors[1,m], eigenvectors[0,m])\n",
        "  if theta < 0.0:\n",
        "    theta += math.pi\n",
        "\n",
        "  vx = []; vy = []\n",
        "  x = ctr[0]\n",
        "  y = ctr[1]\n",
        "  for phi in np.arange(0, 2*np.pi, 0.1):\n",
        "    xs = x + a * np.cos(phi) * np.cos(theta) - b * np.sin(phi) * np.sin(theta)\n",
        "    ys = y + a * np.cos(phi) * np.sin(theta) + b * np.sin(phi) * np.cos(theta)\n",
        "    vx.append(xs)\n",
        "    vy.append(ys)\n",
        "\n",
        "  vx.append(vx[0])\n",
        "  vy.append(vy[0])\n",
        "\n",
        "  # fig = plt.figure(figsize=(6,6))\n",
        "  ax.plot(vx, vy)\n",
        "\n",
        "\n",
        "\n",
        "\n"
      ]
    },
    {
      "cell_type": "code",
      "execution_count": 13,
      "metadata": {
        "id": "wdWZBvV1miAy"
      },
      "outputs": [],
      "source": [
        "# # data0 = []\n",
        "# data = []\n",
        "# sizes = []\n",
        "# for file in files:\n",
        "#   with open(file) as f:\n",
        "#     lines = f.readlines()\n",
        "#     sizes.append(len(lines))\n",
        "\n",
        "#   data0 = []\n",
        "#   write = False\n",
        "#   for l in lines:\n",
        "#     if not write and l[:5] != '100.0' and l[:5] != '99.90':\n",
        "#       write = True\n",
        "\n",
        "#     if write:\n",
        "#       data0.append(l)\n",
        "\n",
        "#   # print(\"Original length: {}\".format(len(data0)))\n",
        "#   s = int(len(data0)/ROBOTS_NUM) * ROBOTS_NUM\n",
        "#   # print(f\"Resized length: {s}\")\n",
        "#   for i in range(s):\n",
        "#     data.append(data0[i])\n",
        "\n",
        "\n",
        "# print(data[0])\n",
        "\n",
        "# poses = np.zeros([len(data), 2], dtype=\"float32\")\n",
        "\n",
        "# for i in range(len(data)):\n",
        "#   data[i] = data[i].replace('\\n', '')\n",
        "#   poses[i] = tuple(map(float, data[i].split(' ')))"
      ]
    },
    {
      "cell_type": "code",
      "source": [
        "data = []\n",
        "sizes = []\n",
        "for file in files:\n",
        "  with open(file) as f:\n",
        "    lines = f.readlines()\n",
        "    sizes.append(len(lines))\n",
        "\n",
        "  for l in lines:\n",
        "    data.append(l)\n",
        "\n",
        "print(data[0])\n",
        "\n",
        "poses = np.zeros([len(data), 2], dtype=\"float32\")\n",
        "\n",
        "for i in range(len(data)):\n",
        "  data[i] = data[i].replace('\\n', '')\n",
        "  poses[i] = tuple(map(float, data[i].split(' ')))\n"
      ],
      "metadata": {
        "colab": {
          "base_uri": "https://localhost:8080/"
        },
        "id": "bHNiA2_pXcnn",
        "outputId": "c3bcb444-8d91-4330-b552-46d0856711e7"
      },
      "execution_count": 14,
      "outputs": [
        {
          "output_type": "stream",
          "name": "stdout",
          "text": [
            "7.999984 7.000009\n",
            "\n"
          ]
        }
      ]
    },
    {
      "cell_type": "code",
      "source": [
        "len(data)/ROBOTS_NUM"
      ],
      "metadata": {
        "colab": {
          "base_uri": "https://localhost:8080/"
        },
        "id": "9ykQHkGA0Ake",
        "outputId": "d274b657-e684-403d-d2fe-d4abbcc8a940"
      },
      "execution_count": 15,
      "outputs": [
        {
          "output_type": "execute_result",
          "data": {
            "text/plain": [
              "37958.0"
            ]
          },
          "metadata": {},
          "execution_count": 15
        }
      ]
    },
    {
      "cell_type": "markdown",
      "source": [
        "## Split poses and velocities"
      ],
      "metadata": {
        "id": "UgSNKLGGHUns"
      }
    },
    {
      "cell_type": "code",
      "source": [
        "pos = np.zeros((int(len(data)/2), 2), dtype=\"float32\")\n",
        "vel = np.zeros_like(pos)\n",
        "\n",
        "print(poses[0])\n",
        "print(f\"Original length: {len(poses)}\")\n",
        "print(f\"Pos length: {len(pos)}\")\n",
        "\n",
        "for i in range(0, len(pos)):\n",
        "  pos[i] = poses[2*i]\n",
        "  vel[i] = poses[2*i+1]\n",
        "\n"
      ],
      "metadata": {
        "colab": {
          "base_uri": "https://localhost:8080/"
        },
        "id": "fkvDqIkSHS6M",
        "outputId": "bd7a2b71-a6c8-495f-b4df-c9a839162c6a"
      },
      "execution_count": 16,
      "outputs": [
        {
          "output_type": "stream",
          "name": "stdout",
          "text": [
            "[7.999984 7.000009]\n",
            "Original length: 759160\n",
            "Pos length: 379580\n"
          ]
        }
      ]
    },
    {
      "cell_type": "code",
      "source": [
        "pos[pos == 100.0] = 0.0\n",
        "vel[vel == 99.9] = 0.0"
      ],
      "metadata": {
        "id": "t5BJzzTFdE-m"
      },
      "execution_count": 17,
      "outputs": []
    },
    {
      "cell_type": "code",
      "source": [
        "pos[0]"
      ],
      "metadata": {
        "colab": {
          "base_uri": "https://localhost:8080/"
        },
        "id": "OPI2UQxGJmc4",
        "outputId": "4037144a-278e-4c28-ba08-6d1eaa8b878c"
      },
      "execution_count": 18,
      "outputs": [
        {
          "output_type": "execute_result",
          "data": {
            "text/plain": [
              "array([7.999984, 7.000009], dtype=float32)"
            ]
          },
          "metadata": {},
          "execution_count": 18
        }
      ]
    },
    {
      "cell_type": "markdown",
      "metadata": {
        "id": "gFvU11q7mtwW"
      },
      "source": [
        "## Convert numpy to torch.Tensor"
      ]
    },
    {
      "cell_type": "code",
      "execution_count": 19,
      "metadata": {
        "id": "fElRn3j8mstX"
      },
      "outputs": [],
      "source": [
        "X = torch.from_numpy(pos).to(device)\n",
        "y = torch.from_numpy(vel).to(device)"
      ]
    },
    {
      "cell_type": "code",
      "source": [
        "print(X[:ROBOTS_NUM, :])\n",
        "X.shape, y.shape"
      ],
      "metadata": {
        "colab": {
          "base_uri": "https://localhost:8080/"
        },
        "id": "nuKA3lQWIyUb",
        "outputId": "3df88b02-db7b-4541-b2ff-f4b7d87e1fca"
      },
      "execution_count": 20,
      "outputs": [
        {
          "output_type": "stream",
          "name": "stdout",
          "text": [
            "tensor([[ 8.0000e+00,  7.0000e+00],\n",
            "        [ 8.0000e+00, -9.9998e-01],\n",
            "        [ 1.9000e-05, -1.0000e+00],\n",
            "        [-4.0000e-06,  7.0000e+00],\n",
            "        [-2.0000e+00,  3.0000e+00],\n",
            "        [ 1.0000e+01,  3.0000e+00],\n",
            "        [ 4.0000e+00,  9.0000e+00],\n",
            "        [ 4.0000e+00, -3.0000e+00],\n",
            "        [ 9.9998e-01, -3.0000e+00],\n",
            "        [-2.0000e+00,  1.8000e-05],\n",
            "        [ 4.5000e+00,  3.5000e+00],\n",
            "        [ 2.0000e+00,  3.0000e+00],\n",
            "        [-4.0000e+00,  3.0000e+00],\n",
            "        [ 1.2000e+01,  3.0000e+00],\n",
            "        [ 4.0000e+00,  1.1000e+01],\n",
            "        [ 4.0000e+00, -5.0000e+00],\n",
            "        [ 0.0000e+00,  0.0000e+00],\n",
            "        [ 0.0000e+00,  0.0000e+00],\n",
            "        [ 0.0000e+00,  0.0000e+00],\n",
            "        [ 0.0000e+00,  0.0000e+00]], device='cuda:0')\n"
          ]
        },
        {
          "output_type": "execute_result",
          "data": {
            "text/plain": [
              "(torch.Size([379580, 2]), torch.Size([379580, 2]))"
            ]
          },
          "metadata": {},
          "execution_count": 20
        }
      ]
    },
    {
      "cell_type": "code",
      "source": [],
      "metadata": {
        "id": "OHOsZ7Ox4bhQ"
      },
      "execution_count": 20,
      "outputs": []
    },
    {
      "cell_type": "code",
      "source": [
        "# X, y = X[:-4], y[:-4]\n",
        "s = int(X.shape[0]/ROBOTS_NUM)\n",
        "\n",
        "print(f\"Original shape: {X.shape}\")\n",
        "X = X[:s*ROBOTS_NUM]\n",
        "y = y[:s*ROBOTS_NUM]\n",
        "print(f\"Final shape: {X.shape}\")"
      ],
      "metadata": {
        "id": "IQQnOGRVKVk1",
        "colab": {
          "base_uri": "https://localhost:8080/"
        },
        "outputId": "feb2e47e-2d22-4e3d-c99e-9f3b4228bc14"
      },
      "execution_count": 21,
      "outputs": [
        {
          "output_type": "stream",
          "name": "stdout",
          "text": [
            "Original shape: torch.Size([379580, 2])\n",
            "Final shape: torch.Size([379580, 2])\n"
          ]
        }
      ]
    },
    {
      "cell_type": "code",
      "source": [
        "X = X.view(-1, 2*ROBOTS_NUM)\n",
        "y = y.view(-1, 2*ROBOTS_NUM)"
      ],
      "metadata": {
        "id": "12fJ3EIPLUXL"
      },
      "execution_count": 22,
      "outputs": []
    },
    {
      "cell_type": "code",
      "execution_count": 23,
      "metadata": {
        "id": "e7atkB4ZtVxx",
        "colab": {
          "base_uri": "https://localhost:8080/"
        },
        "outputId": "d1b543ff-44ae-4f8f-bcd5-621cfd529055"
      },
      "outputs": [
        {
          "output_type": "execute_result",
          "data": {
            "text/plain": [
              "(torch.Size([18979, 40]), torch.Size([18979, 40]))"
            ]
          },
          "metadata": {},
          "execution_count": 23
        }
      ],
      "source": [
        "X.shape, y.shape"
      ]
    },
    {
      "cell_type": "markdown",
      "source": [
        "## Generate sequence tensor"
      ],
      "metadata": {
        "id": "0s2wnvHAj5RF"
      }
    },
    {
      "cell_type": "code",
      "source": [
        "Xseq = generate_sequence_tensor(X, lookback)\n",
        "Xseq.shape"
      ],
      "metadata": {
        "colab": {
          "base_uri": "https://localhost:8080/"
        },
        "id": "6Fi4mhKFi-Q0",
        "outputId": "04363f12-98db-4554-c750-83d017d2d3d0"
      },
      "execution_count": 24,
      "outputs": [
        {
          "output_type": "execute_result",
          "data": {
            "text/plain": [
              "torch.Size([18979, 7, 40])"
            ]
          },
          "metadata": {},
          "execution_count": 24
        }
      ]
    },
    {
      "cell_type": "markdown",
      "source": [
        "## Remove first `lookback` elements"
      ],
      "metadata": {
        "id": "joDvzdm4j8Zi"
      }
    },
    {
      "cell_type": "code",
      "source": [
        "Xseq = Xseq[lookback:, :, :]\n",
        "y = y[lookback:, :]\n",
        "\n",
        "X = Xseq.to(device)\n",
        "X.shape, y.shape"
      ],
      "metadata": {
        "colab": {
          "base_uri": "https://localhost:8080/"
        },
        "id": "RdlJOroHjLdS",
        "outputId": "e42fcfdf-cfbc-47a6-d6ae-9582235c3ff9"
      },
      "execution_count": 25,
      "outputs": [
        {
          "output_type": "execute_result",
          "data": {
            "text/plain": [
              "(torch.Size([18972, 7, 40]), torch.Size([18972, 40]))"
            ]
          },
          "metadata": {},
          "execution_count": 25
        }
      ]
    },
    {
      "cell_type": "code",
      "source": [
        "import random\n",
        "rnd = random.randint(0, int(X.shape[0]/ROBOTS_NUM))\n",
        "print(rnd)\n",
        "X[rnd, :]"
      ],
      "metadata": {
        "colab": {
          "base_uri": "https://localhost:8080/"
        },
        "id": "FabyAxnjugPD",
        "outputId": "b84c7899-8514-48c4-fafb-bcb1ec91d20c"
      },
      "execution_count": 26,
      "outputs": [
        {
          "output_type": "stream",
          "name": "stdout",
          "text": [
            "862\n"
          ]
        },
        {
          "output_type": "execute_result",
          "data": {
            "text/plain": [
              "tensor([[ 2.6770,  2.2153,  2.9824, -2.1568, -0.5217, -1.1061, -1.7716,  3.0056,\n",
              "         -2.9324,  0.7070,  3.6816,  0.0873,  0.6677,  2.7044,  1.0509, -2.7351,\n",
              "         -1.1509, -3.5815, -2.9089, -1.6600,  1.3829, -0.0471, -0.4777,  0.8040,\n",
              "          0.0000,  0.0000,  0.0000,  0.0000,  0.0000,  0.0000,  0.0000,  0.0000,\n",
              "          0.0000,  0.0000,  0.0000,  0.0000,  0.0000,  0.0000,  0.0000,  0.0000],\n",
              "        [ 2.6712,  2.2149,  2.9756, -2.1599, -0.5272, -1.1059, -1.7775,  3.0056,\n",
              "         -2.9365,  0.7048,  3.6765,  0.0857,  0.6617,  2.7056,  1.0438, -2.7351,\n",
              "         -1.1555, -3.5820, -2.9134, -1.6604,  1.3771, -0.0477, -0.4772,  0.8040,\n",
              "          0.0000,  0.0000,  0.0000,  0.0000,  0.0000,  0.0000,  0.0000,  0.0000,\n",
              "          0.0000,  0.0000,  0.0000,  0.0000,  0.0000,  0.0000,  0.0000,  0.0000],\n",
              "        [ 2.6669,  2.2146,  2.9705, -2.1624, -0.5320, -1.1058, -1.7840,  3.0056,\n",
              "         -2.9406,  0.7026,  3.6708,  0.0840,  0.6549,  2.7070,  1.0363, -2.7351,\n",
              "         -1.1588, -3.5824, -2.9186, -1.6609,  1.3712, -0.0483, -0.4773,  0.8040,\n",
              "          0.0000,  0.0000,  0.0000,  0.0000,  0.0000,  0.0000,  0.0000,  0.0000,\n",
              "          0.0000,  0.0000,  0.0000,  0.0000,  0.0000,  0.0000,  0.0000,  0.0000],\n",
              "        [ 2.6617,  2.2143,  2.9636, -2.1657, -0.5388, -1.1056, -1.7904,  3.0055,\n",
              "         -2.9434,  0.7011,  3.6661,  0.0825,  0.6491,  2.7083,  1.0296, -2.7350,\n",
              "         -1.1625, -3.5828, -2.9225, -1.6613,  1.3667, -0.0488, -0.4778,  0.8042,\n",
              "          0.0000,  0.0000,  0.0000,  0.0000,  0.0000,  0.0000,  0.0000,  0.0000,\n",
              "          0.0000,  0.0000,  0.0000,  0.0000,  0.0000,  0.0000,  0.0000,  0.0000],\n",
              "        [ 2.6586,  2.2141,  2.9586, -2.1681, -0.5436, -1.1054, -1.7954,  3.0053,\n",
              "         -2.9452,  0.7001,  3.6619,  0.0812,  0.6431,  2.7098,  1.0227, -2.7349,\n",
              "         -1.1641, -3.5830, -2.9262, -1.6617,  1.3625, -0.0493, -0.4784,  0.8043,\n",
              "          0.0000,  0.0000,  0.0000,  0.0000,  0.0000,  0.0000,  0.0000,  0.0000,\n",
              "          0.0000,  0.0000,  0.0000,  0.0000,  0.0000,  0.0000,  0.0000,  0.0000],\n",
              "        [ 2.6553,  2.2139,  2.9526, -2.1711, -0.5498, -1.1051, -1.8021,  3.0048,\n",
              "         -2.9454,  0.7000,  3.6579,  0.0799,  0.6380,  2.7111,  1.0155, -2.7348,\n",
              "         -1.1644, -3.5830, -2.9291, -1.6620,  1.3592, -0.0496, -0.4792,  0.8045,\n",
              "          0.0000,  0.0000,  0.0000,  0.0000,  0.0000,  0.0000,  0.0000,  0.0000,\n",
              "          0.0000,  0.0000,  0.0000,  0.0000,  0.0000,  0.0000,  0.0000,  0.0000],\n",
              "        [ 2.6539,  2.2138,  2.9463, -2.1741, -0.5555, -1.1049, -1.8073,  3.0043,\n",
              "         -2.9447,  0.7004,  3.6553,  0.0791,  0.6321,  2.7127,  1.0090, -2.7346,\n",
              "         -1.1634, -3.5829, -2.9299, -1.6621,  1.3569, -0.0499, -0.4801,  0.8047,\n",
              "          0.0000,  0.0000,  0.0000,  0.0000,  0.0000,  0.0000,  0.0000,  0.0000,\n",
              "          0.0000,  0.0000,  0.0000,  0.0000,  0.0000,  0.0000,  0.0000,  0.0000]],\n",
              "       device='cuda:0')"
            ]
          },
          "metadata": {},
          "execution_count": 26
        }
      ]
    },
    {
      "cell_type": "markdown",
      "metadata": {
        "id": "JHuxxZf5dUH6"
      },
      "source": [
        "## Create train and test split"
      ]
    },
    {
      "cell_type": "code",
      "execution_count": 27,
      "metadata": {
        "id": "sYw4KJztvpeI",
        "colab": {
          "base_uri": "https://localhost:8080/"
        },
        "outputId": "9d9e3eea-7bcd-4b44-b618-34d7ccaf1e7f"
      },
      "outputs": [
        {
          "output_type": "execute_result",
          "data": {
            "text/plain": [
              "(torch.Size([15177, 7, 40]),\n",
              " torch.Size([3795, 7, 40]),\n",
              " torch.Size([15177, 40]),\n",
              " torch.Size([3795, 40]))"
            ]
          },
          "metadata": {},
          "execution_count": 27
        }
      ],
      "source": [
        "from sklearn.model_selection import train_test_split\n",
        "\n",
        "X_train, X_test, y_train, y_test = train_test_split(X,\n",
        "                                                   y,\n",
        "                                                   test_size=0.2)\n",
        "\n",
        "y_train = y_train.squeeze(1)\n",
        "y_test = y_test.squeeze(1)\n",
        "X_train.shape, X_test.shape, y_train.shape, y_test.shape"
      ]
    },
    {
      "cell_type": "code",
      "execution_count": 28,
      "metadata": {
        "id": "8YErhSVZf1p9"
      },
      "outputs": [],
      "source": [
        "from torch.utils.data import TensorDataset, DataLoader\n",
        "\n",
        "# create TensorDatasets for training and testing sets\n",
        "train_dataset = TensorDataset(X_train, y_train)\n",
        "test_dataset = TensorDataset(X_test, y_test)\n",
        "\n",
        "# create DataLoaders\n",
        "batch_size = 64\n",
        "train_loader = DataLoader(train_dataset, batch_size=batch_size, shuffle=True)\n",
        "test_loader = DataLoader(test_dataset, batch_size=batch_size, shuffle=False)"
      ]
    },
    {
      "cell_type": "code",
      "execution_count": 29,
      "metadata": {
        "id": "1ahRpSqsp9O9",
        "colab": {
          "base_uri": "https://localhost:8080/"
        },
        "outputId": "a184a439-6ba8-4e87-fdb4-ad62ce6b2a22"
      },
      "outputs": [
        {
          "output_type": "stream",
          "name": "stdout",
          "text": [
            "torch.Size([64, 7, 40]) torch.Size([64, 40])\n"
          ]
        }
      ],
      "source": [
        "for input, target in train_loader:\n",
        "  print(input.shape, target.shape)\n",
        "  break"
      ]
    },
    {
      "cell_type": "markdown",
      "metadata": {
        "id": "ifu_-G4Fgfq2"
      },
      "source": [
        "## Define neural network model"
      ]
    },
    {
      "cell_type": "code",
      "execution_count": 30,
      "metadata": {
        "id": "vQNyU1ioxrHp"
      },
      "outputs": [],
      "source": [
        "class CoverageModel(nn.Module):\n",
        "  def __init__(self, input_size, output_size):\n",
        "    super().__init__()\n",
        "    self.input_size = input_size\n",
        "    self.output_size = output_size\n",
        "\n",
        "    self.fc1 = nn.Linear(input_size, 128)\n",
        "    self.fc2 = nn.Linear(128, 64)\n",
        "    self.fc3 = nn.Linear(64, output_size)\n",
        "    self.relu = nn.ReLU(inplace=True)\n",
        "    # self.activation = nn.Sigmoid()\n",
        "    self.activation = nn.Tanh()\n",
        "\n",
        "  def forward(self, x):\n",
        "    x = self.activation(self.fc1(x))\n",
        "    x = self.activation(self.fc2(x))\n",
        "    x = self.fc3(x)\n",
        "\n",
        "    return x"
      ]
    },
    {
      "cell_type": "code",
      "source": [
        "class DynamicCoverageModel(nn.Module):\n",
        "  def __init__(self, max_size):\n",
        "    super().__init__()\n",
        "    self.max_size = max_size\n",
        "    self.input_size = max_size\n",
        "    self.output_size = max_size\n",
        "\n",
        "    self.fc1 = nn.Linear(self.input_size, 64)\n",
        "    self.fc2 = nn.Linear(64, 32)\n",
        "    self.fc3 = nn.Linear(32, self.output_size)\n",
        "    self.relu = nn.ReLU()\n",
        "    self.activation = nn.Tanh()\n",
        "\n",
        "  def reshape(self, x):\n",
        "    (x == 100.0).nonzero(as_tuple=True)\n",
        "\n",
        "    size = x.shape[1]\n",
        "    self.input_size = size\n",
        "    self.output_size = size\n",
        "\n",
        "    self.fc1 = nn.Linear(self.input_size, 64)\n",
        "    self.fc3 = nn.Linear(32, self.output_size)\n",
        "\n",
        "  def forward(self, x):\n",
        "    self.reshape(x)\n",
        "    x = self.activation(self.fc1(x))\n",
        "    x = self.activation(self.fc2(x))\n",
        "    x = self.fc3(x)\n",
        "\n",
        "    return x"
      ],
      "metadata": {
        "id": "-Xb8NZzhRyLp"
      },
      "execution_count": 31,
      "outputs": []
    },
    {
      "cell_type": "code",
      "source": [
        "class CoverageModel2(nn.Module):\n",
        "  def __init__(self, input_size, output_size):\n",
        "    super().__init__()\n",
        "    self.input_size = input_size\n",
        "    self.output_size = output_size\n",
        "\n",
        "    self.fc1 = nn.Linear(input_size, 256)\n",
        "    self.fc2 = nn.Linear(256, 128)\n",
        "    self.fc3 = nn.Linear(128, 64)\n",
        "    self.fc4 = nn.Linear(64, 32)\n",
        "    self.fc5 = nn.Linear(32, output_size)\n",
        "    self.relu = nn.ReLU()\n",
        "    # self.activation = nn.Sigmoid()\n",
        "    self.activation = nn.Tanh()\n",
        "\n",
        "\n",
        "  def forward(self, x):\n",
        "\n",
        "    in_size = 0\n",
        "    # print(x.shape)\n",
        "    for i in range(x.shape[1]):\n",
        "      # print(row.shape)\n",
        "      if x[0, i] != 0.0:\n",
        "        in_size += 1\n",
        "\n",
        "    # print(\"x:\")\n",
        "    # print(x)\n",
        "    # print(\"in_size: {}\".format(in_size))\n",
        "\n",
        "    x = self.activation(self.fc1(x))\n",
        "    x = self.activation(self.fc2(x))\n",
        "    x = self.activation(self.fc3(x))\n",
        "    x = self.activation(self.fc4(x))\n",
        "    x = self.fc5(x)\n",
        "\n",
        "    out = np.zeros((x.shape[0], self.input_size), dtype=\"float32\")\n",
        "    out = torch.from_numpy(out).to(device)\n",
        "    out[:, :in_size] = x[:, :in_size]\n",
        "\n",
        "    # out = out.to(device)\n",
        "\n",
        "    return out"
      ],
      "metadata": {
        "id": "KcS7nQ_YXh5v"
      },
      "execution_count": 32,
      "outputs": []
    },
    {
      "cell_type": "code",
      "source": [
        "class DropoutCoverageModel(nn.Module):\n",
        "  def __init__(self, input_size, output_size):\n",
        "    super().__init__()\n",
        "    self.input_size = input_size\n",
        "    self.output_size = output_size\n",
        "\n",
        "    self.fc1 = nn.Linear(input_size, 128)\n",
        "    self.dropout1 = nn.Dropout(0.2)\n",
        "    self.fc2 = nn.Linear(128, 64)\n",
        "    self.dropout2 = nn.Dropout(0.2)\n",
        "    self.fc3 = nn.Linear(64, output_size)\n",
        "    self.relu = nn.ReLU()\n",
        "    # self.activation = nn.Sigmoid()\n",
        "    self.activation1 = nn.Tanh()\n",
        "    self.activation2 = nn.Tanh()\n",
        "\n",
        "\n",
        "  def forward(self, x):\n",
        "\n",
        "    in_size = 0\n",
        "    # print(x.shape)\n",
        "    for i in range(x.shape[1]):\n",
        "      # print(row.shape)\n",
        "      if x[0, i] != 0.0:\n",
        "        in_size += 1\n",
        "\n",
        "    # print(\"x:\")\n",
        "    # print(x)\n",
        "    # print(\"in_size: {}\".format(in_size))\n",
        "\n",
        "    x = self.dropout1(self.activation1(self.fc1(x)))\n",
        "    x = self.dropout2(self.activation2(self.fc2(x)))\n",
        "    # x = self.activation(self.fc3(x))\n",
        "    # x = self.activation(self.fc4(x))\n",
        "    x = self.fc3(x)\n",
        "\n",
        "    out = np.zeros((x.shape[0], self.input_size), dtype=\"float32\")\n",
        "    out = torch.from_numpy(out).to(device)\n",
        "    out[:, :in_size] = x[:, :in_size]\n",
        "\n",
        "    # out = out.to(device)\n",
        "\n",
        "    return out"
      ],
      "metadata": {
        "id": "41Sd9b4Lohjp"
      },
      "execution_count": null,
      "outputs": []
    },
    {
      "cell_type": "code",
      "source": [
        "class CoverageRNN(nn.Module):\n",
        "  def __init__(self, input_size, hidden_size, num_stacked_layers, output_size):\n",
        "    super().__init__()\n",
        "    self.input_size = input_size\n",
        "    self.output_size = output_size\n",
        "    self.hidden_size = hidden_size\n",
        "    self.num_stacked_layers = num_stacked_layers\n",
        "    self.lstm = nn.LSTM(input_size, hidden_size, num_stacked_layers, batch_first=True)\n",
        "    self.relu = nn.ReLU()\n",
        "    self.fc1 = nn.Linear(hidden_size, hidden_size)\n",
        "    self.dropout1 = nn.Dropout(0.2)\n",
        "    self.fc2 = nn.Linear(hidden_size, 64)\n",
        "    self.dropout2 = nn.Dropout(0.2)\n",
        "    self.fc3 = nn.Linear(64, output_size)\n",
        "    self.relu = nn.ReLU()\n",
        "    # self.activation = nn.Sigmoid()\n",
        "    self.activation1 = nn.Tanh()\n",
        "    self.activation2 = nn.Tanh()\n",
        "\n",
        "\n",
        "  def forward(self, x):\n",
        "    in_size = 0\n",
        "    # print(x.shape)\n",
        "    for i in range(x.shape[2]):\n",
        "      # print(row.shape)\n",
        "      if x[0, 0, i] != 0.0:\n",
        "        in_size += 1\n",
        "\n",
        "    batch_size, seq_len, _ = x.size()\n",
        "    h0 = torch.zeros(self.num_stacked_layers, batch_size, self.hidden_size).to(device)\n",
        "    c0 = torch.zeros(self.num_stacked_layers, batch_size, self.hidden_size).to(device)\n",
        "\n",
        "    x, _ = self.lstm(x, (h0, c0))\n",
        "    # print(f\"x Shape: {x[:, -1, :].shape}\")\n",
        "    x = self.dropout1(self.activation1(self.fc1(x[:, -1, :])))\n",
        "    x = self.dropout2(self.activation2(self.fc2(x)))\n",
        "    x = self.fc3(x)\n",
        "\n",
        "    out = np.zeros((x.shape[0], self.input_size), dtype=\"float32\")\n",
        "    out = torch.from_numpy(out).to(device)\n",
        "    out[:, :in_size] = x[:, :in_size]\n",
        "\n",
        "    return out"
      ],
      "metadata": {
        "id": "9P6C0ckjk49a"
      },
      "execution_count": 40,
      "outputs": []
    },
    {
      "cell_type": "markdown",
      "metadata": {
        "id": "jtmGxLURgbeZ"
      },
      "source": [
        "## Training"
      ]
    },
    {
      "cell_type": "code",
      "execution_count": 41,
      "metadata": {
        "id": "6_r3ETDpx7j0"
      },
      "outputs": [],
      "source": [
        "model = CoverageRNN(input_size = 2 * ROBOTS_NUM,\n",
        "                    output_size = 2 * ROBOTS_NUM,\n",
        "                    hidden_size = 128,\n",
        "                    num_stacked_layers= 4)\n",
        "model = model.to(device)\n",
        "loss_fn = nn.MSELoss()\n",
        "optimizer = torch.optim.Adam(model.parameters(), lr=0.001)\n",
        "\n",
        "RUN_BATCHED = False"
      ]
    },
    {
      "cell_type": "code",
      "source": [
        "X_train[0, :]"
      ],
      "metadata": {
        "colab": {
          "base_uri": "https://localhost:8080/"
        },
        "id": "6SeYGFAtuQV5",
        "outputId": "88696468-4486-4b9c-9f2a-dd79c56a1316"
      },
      "execution_count": null,
      "outputs": [
        {
          "output_type": "execute_result",
          "data": {
            "text/plain": [
              "tensor([ 2.2644,  2.1435,  1.3859, -1.5658, -1.8251, -2.1595, -1.8479,  1.5646,\n",
              "        -4.0460,  0.6479,  1.2033,  0.1869, -0.2448,  0.9954,  0.0686, -2.9873,\n",
              "        -1.4722, -4.5687, -3.9426, -2.0408, -0.4278, -0.9466, -2.0957, -0.2749,\n",
              "        -2.6773,  3.3814,  3.4266, -0.2820,  0.0772,  3.2800,  2.6078, -3.3643,\n",
              "         0.0000,  0.0000,  0.0000,  0.0000,  0.0000,  0.0000,  0.0000,  0.0000],\n",
              "       device='cuda:0')"
            ]
          },
          "metadata": {},
          "execution_count": 45
        }
      ]
    },
    {
      "cell_type": "markdown",
      "metadata": {
        "id": "gyU-eUOgvT7B"
      },
      "source": [
        "## Train on unbatched data"
      ]
    },
    {
      "cell_type": "code",
      "source": [
        "if RUN_BATCHED:\n",
        "  epochs = 100\n",
        "  for epoch in range(epochs):\n",
        "    model.train()\n",
        "    running_loss = 0.0\n",
        "    for inputs, targets in train_loader:\n",
        "      outputs = model(inputs)\n",
        "      if epoch == 0.0:\n",
        "        print(f\"Output shape: {outputs.shape}\")\n",
        "        print(f\"Targets shape: {targets.shape}\")\n",
        "\n",
        "      loss = loss_fn(outputs, targets)\n",
        "      optimizer.zero_grad()\n",
        "      loss.backward()\n",
        "      optimizer.step()\n",
        "      running_loss += loss.item()\n",
        "\n",
        "    print(f\"Epoch: {epoch+1} | Loss: {running_loss/len(train_loader)}\")\n",
        "\n",
        "    ### Testing\n",
        "    model.eval()\n",
        "    with torch.no_grad():\n",
        "      running_test_loss = 0.0\n",
        "      for test_inputs, test_targets in test_loader:\n",
        "        test_outputs = model(test_inputs)\n",
        "        test_loss = loss_fn(test_outputs, test_targets)\n",
        "        running_test_loss += test_loss.item()\n",
        "\n",
        "      print(f\"Epoch: {epoch+1} | Test Loss: {running_test_loss/len(test_loader)}\")"
      ],
      "metadata": {
        "id": "cRWS_XLinD0I"
      },
      "execution_count": null,
      "outputs": []
    },
    {
      "cell_type": "code",
      "execution_count": 43,
      "metadata": {
        "id": "nxgwi6cDvTtg",
        "colab": {
          "base_uri": "https://localhost:8080/"
        },
        "outputId": "c8d7f1c7-ab6d-46e0-d52e-ff7249b523c4"
      },
      "outputs": [
        {
          "output_type": "stream",
          "name": "stdout",
          "text": [
            "output shape: torch.Size([15177, 40])\n",
            "Target shape: torch.Size([15177, 40])\n",
            "Epoch: 0 | Loss: 0.008201242424547672 | Test loss: 0.0023626554757356644\n",
            "Epoch: 100 | Loss: 0.008059612475335598 | Test loss: 0.0022275480441749096\n",
            "Epoch: 200 | Loss: 0.008090215735137463 | Test loss: 0.002113889204338193\n",
            "Epoch: 300 | Loss: 0.007903171703219414 | Test loss: 0.002004822250455618\n",
            "Epoch: 400 | Loss: 0.00785759836435318 | Test loss: 0.0019064572406932712\n",
            "Epoch: 500 | Loss: 0.0076882983557879925 | Test loss: 0.0018110517412424088\n",
            "Epoch: 600 | Loss: 0.00762392720207572 | Test loss: 0.0018143533961847425\n",
            "Epoch: 700 | Loss: 0.007574292365461588 | Test loss: 0.00174998480360955\n",
            "Epoch: 800 | Loss: 0.007525595836341381 | Test loss: 0.0017100394470617175\n",
            "Epoch: 900 | Loss: 0.007381242234259844 | Test loss: 0.00164163822773844\n"
          ]
        }
      ],
      "source": [
        "if not RUN_BATCHED:\n",
        "  epochs = 1000\n",
        "  epsilon = 0.01\n",
        "\n",
        "  for epoch in range(epochs):\n",
        "    model.train()\n",
        "    y_pred = model(X_train)\n",
        "    if epoch == 0:\n",
        "      print(f\"output shape: {y_pred.shape}\")\n",
        "      print(f\"Target shape: {y_train.shape}\")\n",
        "    loss = loss_fn(y_pred, y_train)\n",
        "    torch.autograd.set_detect_anomaly(True)\n",
        "    optimizer.zero_grad()\n",
        "    loss.backward()\n",
        "    optimizer.step()\n",
        "\n",
        "    ### Testing\n",
        "    model.eval()\n",
        "    with torch.inference_mode():\n",
        "      test_pred = model(X_test)\n",
        "      test_loss = loss_fn(test_pred, y_test)\n",
        "\n",
        "    if epoch % 100 == 0:\n",
        "      print(f\"Epoch: {epoch} | Loss: {loss.item()} | Test loss: {test_loss.item()}\")"
      ]
    },
    {
      "cell_type": "code",
      "source": [
        "# for name, param in model.named_parameters():\n",
        "#   if param.requires_grad:\n",
        "#     print(name, param)"
      ],
      "metadata": {
        "id": "LlzgnpI8iiK1"
      },
      "execution_count": null,
      "outputs": []
    },
    {
      "cell_type": "markdown",
      "metadata": {
        "id": "Rvz1wWRh-zt4"
      },
      "source": [
        "## Test on simulated robots"
      ]
    },
    {
      "cell_type": "code",
      "execution_count": 177,
      "metadata": {
        "id": "Q9p3vR1d-2ZW",
        "colab": {
          "base_uri": "https://localhost:8080/",
          "height": 777
        },
        "outputId": "cd2da0de-471a-49e0-986f-0e5922725408"
      },
      "outputs": [
        {
          "output_type": "execute_result",
          "data": {
            "text/plain": [
              "array([[-11.572036 , -25.993267 ],\n",
              "       [-32.244656 , -29.606537 ],\n",
              "       [-21.143097 , -21.631744 ],\n",
              "       [-25.518595 ,  -9.920757 ],\n",
              "       [-10.458222 ,  -7.0388517],\n",
              "       [ -3.176805 , -16.76211  ],\n",
              "       [ -2.5452359,  -8.419876 ],\n",
              "       [ -1.7714417, -29.70633  ],\n",
              "       [-34.320885 , -19.817707 ],\n",
              "       [-38.88714  ,  -2.7817547],\n",
              "       [-37.667297 , -22.851624 ],\n",
              "       [-29.67678  , -28.49182  ],\n",
              "       [  0.       ,   0.       ],\n",
              "       [  0.       ,   0.       ],\n",
              "       [  0.       ,   0.       ],\n",
              "       [  0.       ,   0.       ],\n",
              "       [  0.       ,   0.       ],\n",
              "       [  0.       ,   0.       ],\n",
              "       [  0.       ,   0.       ],\n",
              "       [  0.       ,   0.       ]], dtype=float32)"
            ]
          },
          "metadata": {},
          "execution_count": 177
        },
        {
          "output_type": "display_data",
          "data": {
            "text/plain": [
              "<Figure size 640x480 with 1 Axes>"
            ],
            "image/png": "[encoded data removed]"
          },
          "metadata": {}
        }
      ],
      "source": [
        "import random\n",
        "N_ROBOTS = 12\n",
        "robots = np.zeros((N_ROBOTS, 2), dtype=\"float32\")\n",
        "for i in range(N_ROBOTS):\n",
        "  robots[i, :] = -40.0 + 40.0 * np.random.rand(1, 2)\n",
        "\n",
        "robots_dummy = np.zeros((ROBOTS_NUM, 2), dtype=\"float32\")\n",
        "robots_dummy[:N_ROBOTS, :] = robots\n",
        "# robots = np.array(([-4.0, 4.0],\n",
        "#                   [-4.0, -4.0],\n",
        "#                   [4.0, -4.0],\n",
        "#                   [4.0, 4.0],\n",
        "#                   [6.0, 0.0],\n",
        "#                   [-6.0, 0.0]),\n",
        "#                   dtype=\"float32\")\n",
        "\n",
        "# robots = robots - 8.0\n",
        "plt.scatter(robots[:, 0], robots[:, 1])\n",
        "Xt = torch.from_numpy(robots_dummy)\n",
        "Xt = Xt.view(-1, ROBOTS_NUM*2)\n",
        "Xt = Xt.to(device)\n",
        "\n",
        "robots_dummy[:ROBOTS_NUM, :]"
      ]
    },
    {
      "cell_type": "code",
      "source": [
        "Xt[0, 0]"
      ],
      "metadata": {
        "id": "J6j-HevAO2JE",
        "colab": {
          "base_uri": "https://localhost:8080/"
        },
        "outputId": "649c1467-d160-4ac9-b3c8-c13e516e73e3"
      },
      "execution_count": 178,
      "outputs": [
        {
          "output_type": "execute_result",
          "data": {
            "text/plain": [
              "tensor(-11.5720, device='cuda:0')"
            ]
          },
          "metadata": {},
          "execution_count": 178
        }
      ]
    },
    {
      "cell_type": "markdown",
      "source": [
        "## Simulate first steps\n",
        "\n",
        "Simulate first `lookback` steps as a linear motion towards `(0,0)`."
      ],
      "metadata": {
        "id": "P5-Zq6k1RlrR"
      }
    },
    {
      "cell_type": "code",
      "source": [
        "Xt_seq = torch.zeros((1, lookback, 2*ROBOTS_NUM)).to(device)\n",
        "print(f\"Xt_seq shape: {Xt_seq.shape}\")\n",
        "Xt_seq[:, -1, :] = dc(Xt)\n",
        "vmax = 1.0\n",
        "# vel_tensor = torch.Tensor([vel, vel]).to(device)\n",
        "K = 0.8\n",
        "dt = 0.2\n",
        "# j = 0\n",
        "# xi = Xt[:, 2*j:2*(j+1)]\n",
        "for i in range(lookback):\n",
        "  x_n = torch.zeros((1, 2*ROBOTS_NUM)).to(device)\n",
        "  xi = Xt_seq[:, lookback-i-1, :]\n",
        "  # print(f\"xi shape: {xi.shape}\")\n",
        "  # print(f\"xn shape: {x_n.shape}\")\n",
        "  for j in range(ROBOTS_NUM):\n",
        "    xj = xi[0, 2*j:2*(j+1)]\n",
        "    # print(f\"xj shape: {xj.shape}\")\n",
        "    dx = -K * xi[0, 2*j]\n",
        "    dy = -K * xi[0, 2*j+1]\n",
        "    vx = max(-vmax, min(vmax, dx))\n",
        "    vy = max(-vmax, min(vmax, dy))\n",
        "    x_n[0, 2*j] = xj[0] + dt * vx\n",
        "    x_n[0, 2*j+1] = xj[1] + dt * vy\n",
        "  # print(x_n)\n",
        "\n",
        "  Xt_seq[:, lookback-i-2, :] = x_n\n",
        "\n",
        "\n",
        "print(f\"Final shape: {Xt_seq.shape}\")\n",
        "\n",
        "\n",
        "\n",
        ""
      ],
      "metadata": {
        "colab": {
          "base_uri": "https://localhost:8080/"
        },
        "id": "0QL6E4RfRkJr",
        "outputId": "7b65e56b-19ab-472b-89cd-5dafa31e4528"
      },
      "execution_count": 179,
      "outputs": [
        {
          "output_type": "stream",
          "name": "stdout",
          "text": [
            "Xt_seq shape: torch.Size([1, 7, 40])\n",
            "Final shape: torch.Size([1, 7, 40])\n"
          ]
        }
      ]
    },
    {
      "cell_type": "markdown",
      "source": [
        "## Plot simulated steps"
      ],
      "metadata": {
        "id": "SnQXPXWOck-E"
      }
    },
    {
      "cell_type": "code",
      "source": [
        "Xt_seq = Xt_seq.view((lookback, -1, 2*ROBOTS_NUM))\n",
        "for i in range(N_ROBOTS):\n",
        "  plt.plot(Xt_seq[:, 0, 2*i].cpu().detach().numpy(), Xt_seq[:, 0, 2*i+1].cpu().detach().numpy())\n",
        "\n",
        "plt.plot(0.0, 0.0, '*')"
      ],
      "metadata": {
        "colab": {
          "base_uri": "https://localhost:8080/",
          "height": 447
        },
        "id": "yVoV-snkbVFS",
        "outputId": "271c93df-ac51-421a-bd19-ad4dc3d01b3c"
      },
      "execution_count": 180,
      "outputs": [
        {
          "output_type": "execute_result",
          "data": {
            "text/plain": [
              "[<matplotlib.lines.Line2D at 0x7f24f47fb670>]"
            ]
          },
          "metadata": {},
          "execution_count": 180
        },
        {
          "output_type": "display_data",
          "data": {
            "text/plain": [
              "<Figure size 640x480 with 1 Axes>"
            ],
            "image/png": "[encoded data removed]"
          },
          "metadata": {}
        }
      ]
    },
    {
      "cell_type": "markdown",
      "metadata": {
        "id": "vpiZWVcbIHmc"
      },
      "source": [
        "## Forecast next steps"
      ]
    },
    {
      "cell_type": "code",
      "source": [
        "NUM_STEPS = 2000\n",
        "dt = 0.2\n",
        "\n",
        "X_hist = [Xt]\n",
        "# v_hist = []\n",
        "\n",
        "r_hist = []"
      ],
      "metadata": {
        "id": "WajxxktrkoFW"
      },
      "execution_count": 181,
      "outputs": []
    },
    {
      "cell_type": "code",
      "execution_count": 182,
      "metadata": {
        "id": "lCtXA0HaoalO",
        "colab": {
          "base_uri": "https://localhost:8080/"
        },
        "outputId": "e4a1442a-bad8-4513-97c1-013e3779cda9"
      },
      "outputs": [
        {
          "output_type": "stream",
          "name": "stdout",
          "text": [
            "torch.Size([2000, 20, 2])\n",
            "Vpred : tensor([[1.0838, 0.8294, 0.2850, 0.9544, 1.0524, 0.8559, 0.9397, 0.9993, 0.8832,\n",
            "         0.8409, 0.5928, 0.9285, 0.9932, 0.6059, 0.7082, 0.8177, 0.9373, 0.7123,\n",
            "         1.0482, 0.7377, 0.8703, 0.9341, 0.7761, 0.9940, 0.0000, 0.0000, 0.0000,\n",
            "         0.0000, 0.0000, 0.0000, 0.0000, 0.0000, 0.0000, 0.0000, 0.0000, 0.0000,\n",
            "         0.0000, 0.0000, 0.0000, 0.0000]], device='cuda:0',\n",
            "       grad_fn=<CopySlices>)\n",
            "Vpred : tensor([[0.3149, 0.3374, 0.6577, 0.9359, 0.5826, 0.6351, 1.1613, 0.5832, 0.3044,\n",
            "         0.5127, 0.4989, 0.4449, 0.6220, 0.2970, 0.6064, 1.0111, 0.7200, 0.1951,\n",
            "         1.0788, 0.4182, 0.5870, 0.6178, 0.6180, 0.6018, 0.0000, 0.0000, 0.0000,\n",
            "         0.0000, 0.0000, 0.0000, 0.0000, 0.0000, 0.0000, 0.0000, 0.0000, 0.0000,\n",
            "         0.0000, 0.0000, 0.0000, 0.0000]], device='cuda:0',\n",
            "       grad_fn=<CopySlices>)\n",
            "Vpred : tensor([[-0.0093, -0.0670, -0.1672,  0.1663, -0.2426, -0.1059, -0.0049, -0.0823,\n",
            "         -0.0431,  0.0141,  0.0519, -0.0149,  0.0646, -0.0032,  0.0501,  0.1058,\n",
            "          0.0694,  0.1000,  0.0713,  0.0399,  0.0492,  0.0450,  0.0396,  0.0502,\n",
            "          0.0000,  0.0000,  0.0000,  0.0000,  0.0000,  0.0000,  0.0000,  0.0000,\n",
            "          0.0000,  0.0000,  0.0000,  0.0000,  0.0000,  0.0000,  0.0000,  0.0000]],\n",
            "       device='cuda:0', grad_fn=<CopySlices>)\n",
            "Vpred : tensor([[ 0.0058, -0.0784, -0.1511,  0.1034, -0.1781, -0.1006, -0.0297, -0.0800,\n",
            "         -0.0502,  0.0063, -0.0324, -0.0254,  0.0203,  0.0055,  0.0103,  0.0904,\n",
            "          0.0224,  0.0971,  0.0133,  0.0338,  0.0073,  0.0437,  0.0049,  0.0469,\n",
            "          0.0000,  0.0000,  0.0000,  0.0000,  0.0000,  0.0000,  0.0000,  0.0000,\n",
            "          0.0000,  0.0000,  0.0000,  0.0000,  0.0000,  0.0000,  0.0000,  0.0000]],\n",
            "       device='cuda:0', grad_fn=<CopySlices>)\n",
            "Vpred : tensor([[ 0.0423, -0.0610, -0.1033,  0.0909, -0.1325, -0.0849, -0.0415, -0.0595,\n",
            "         -0.0432,  0.0134, -0.0666, -0.0198,  0.0010,  0.0116, -0.0080,  0.0803,\n",
            "          0.0062,  0.0910, -0.0065,  0.0283, -0.0079,  0.0403, -0.0095,  0.0424,\n",
            "          0.0000,  0.0000,  0.0000,  0.0000,  0.0000,  0.0000,  0.0000,  0.0000,\n",
            "          0.0000,  0.0000,  0.0000,  0.0000,  0.0000,  0.0000,  0.0000,  0.0000]],\n",
            "       device='cuda:0', grad_fn=<CopySlices>)\n",
            "Vpred : tensor([[ 0.0791, -0.0272, -0.0451,  0.0417, -0.0928, -0.0566, -0.0421, -0.0393,\n",
            "         -0.0286,  0.0017, -0.0635, -0.0241, -0.0061,  0.0065, -0.0170,  0.0546,\n",
            "          0.0033,  0.0746, -0.0050,  0.0238, -0.0111,  0.0291, -0.0119,  0.0254,\n",
            "          0.0000,  0.0000,  0.0000,  0.0000,  0.0000,  0.0000,  0.0000,  0.0000,\n",
            "          0.0000,  0.0000,  0.0000,  0.0000,  0.0000,  0.0000,  0.0000,  0.0000]],\n",
            "       device='cuda:0', grad_fn=<CopySlices>)\n",
            "Vpred : tensor([[ 0.0940, -0.0029, -0.0173, -0.0114, -0.0620, -0.0298, -0.0404, -0.0265,\n",
            "         -0.0328, -0.0141, -0.0589, -0.0246, -0.0148, -0.0036, -0.0276,  0.0383,\n",
            "         -0.0047,  0.0641, -0.0033,  0.0247, -0.0174,  0.0193, -0.0175,  0.0116,\n",
            "          0.0000,  0.0000,  0.0000,  0.0000,  0.0000,  0.0000,  0.0000,  0.0000,\n",
            "          0.0000,  0.0000,  0.0000,  0.0000,  0.0000,  0.0000,  0.0000,  0.0000]],\n",
            "       device='cuda:0', grad_fn=<CopySlices>)\n",
            "Vpred : tensor([[ 0.1292,  0.0278,  0.0337, -0.0831, -0.0638,  0.0380, -0.0199, -0.0118,\n",
            "          0.0195, -0.0299, -0.0077, -0.0253, -0.0231, -0.0109, -0.0344,  0.0324,\n",
            "         -0.0120,  0.0706, -0.0013,  0.0385, -0.0265,  0.0158, -0.0179,  0.0006,\n",
            "          0.0000,  0.0000,  0.0000,  0.0000,  0.0000,  0.0000,  0.0000,  0.0000,\n",
            "          0.0000,  0.0000,  0.0000,  0.0000,  0.0000,  0.0000,  0.0000,  0.0000]],\n",
            "       device='cuda:0', grad_fn=<CopySlices>)\n",
            "Vpred : tensor([[ 0.1145,  0.0468,  0.0663, -0.1173, -0.0615,  0.0865, -0.0014, -0.0013,\n",
            "          0.0378, -0.0301, -0.0018,  0.0025, -0.0243, -0.0250, -0.0322,  0.0217,\n",
            "         -0.0111,  0.0626,  0.0052,  0.0356, -0.0268,  0.0066, -0.0125, -0.0043,\n",
            "          0.0000,  0.0000,  0.0000,  0.0000,  0.0000,  0.0000,  0.0000,  0.0000,\n",
            "          0.0000,  0.0000,  0.0000,  0.0000,  0.0000,  0.0000,  0.0000,  0.0000]],\n",
            "       device='cuda:0', grad_fn=<CopySlices>)\n",
            "Vpred : tensor([[ 0.0884,  0.0513,  0.0650, -0.1077, -0.0573,  0.0945,  0.0037, -0.0033,\n",
            "          0.0427, -0.0204,  0.0027,  0.0186, -0.0203, -0.0319, -0.0260,  0.0151,\n",
            "         -0.0059,  0.0506,  0.0100,  0.0265, -0.0216,  0.0004, -0.0084, -0.0036,\n",
            "          0.0000,  0.0000,  0.0000,  0.0000,  0.0000,  0.0000,  0.0000,  0.0000,\n",
            "          0.0000,  0.0000,  0.0000,  0.0000,  0.0000,  0.0000,  0.0000,  0.0000]],\n",
            "       device='cuda:0', grad_fn=<CopySlices>)\n",
            "Vpred : tensor([[ 0.0725,  0.0494,  0.0617, -0.0900, -0.0513,  0.0887,  0.0040, -0.0099,\n",
            "          0.0385, -0.0155,  0.0124,  0.0173, -0.0141, -0.0345, -0.0174,  0.0111,\n",
            "          0.0023,  0.0401,  0.0143,  0.0196, -0.0139, -0.0040, -0.0032, -0.0039,\n",
            "          0.0000,  0.0000,  0.0000,  0.0000,  0.0000,  0.0000,  0.0000,  0.0000,\n",
            "          0.0000,  0.0000,  0.0000,  0.0000,  0.0000,  0.0000,  0.0000,  0.0000]],\n",
            "       device='cuda:0', grad_fn=<CopySlices>)\n",
            "Vpred : tensor([[ 0.0742,  0.0460,  0.0787, -0.0900, -0.0403,  0.0890,  0.0021, -0.0053,\n",
            "          0.0188, -0.0244,  0.0168, -0.0015, -0.0095, -0.0371, -0.0079,  0.0070,\n",
            "          0.0134,  0.0346,  0.0169,  0.0195, -0.0066, -0.0069,  0.0051, -0.0068,\n",
            "          0.0000,  0.0000,  0.0000,  0.0000,  0.0000,  0.0000,  0.0000,  0.0000,\n",
            "          0.0000,  0.0000,  0.0000,  0.0000,  0.0000,  0.0000,  0.0000,  0.0000]],\n",
            "       device='cuda:0', grad_fn=<CopySlices>)\n",
            "Vpred : tensor([[ 0.0873,  0.0256,  0.1193, -0.1222, -0.0248,  0.0916, -0.0094,  0.0141,\n",
            "          0.0065, -0.0401, -0.0065, -0.0020, -0.0104, -0.0312, -0.0054, -0.0012,\n",
            "          0.0138,  0.0267,  0.0076,  0.0186, -0.0084,  0.0012,  0.0090, -0.0012,\n",
            "          0.0000,  0.0000,  0.0000,  0.0000,  0.0000,  0.0000,  0.0000,  0.0000,\n",
            "          0.0000,  0.0000,  0.0000,  0.0000,  0.0000,  0.0000,  0.0000,  0.0000]],\n",
            "       device='cuda:0', grad_fn=<CopySlices>)\n",
            "Vpred : tensor([[ 0.0848,  0.0008,  0.1305, -0.1160, -0.0101,  0.0680,  0.0096,  0.0353,\n",
            "          0.0066, -0.0441, -0.0111, -0.0034, -0.0051, -0.0266,  0.0023, -0.0123,\n",
            "          0.0174,  0.0196,  0.0044,  0.0130, -0.0040,  0.0023,  0.0152, -0.0011,\n",
            "          0.0000,  0.0000,  0.0000,  0.0000,  0.0000,  0.0000,  0.0000,  0.0000,\n",
            "          0.0000,  0.0000,  0.0000,  0.0000,  0.0000,  0.0000,  0.0000,  0.0000]],\n",
            "       device='cuda:0', grad_fn=<CopySlices>)\n",
            "Vpred : tensor([[ 0.1000, -0.0042,  0.1266, -0.0639,  0.0362,  0.0314,  0.0546,  0.0506,\n",
            "         -0.0095, -0.0304,  0.0075, -0.0296,  0.0097, -0.0279,  0.0213, -0.0174,\n",
            "          0.0361,  0.0149,  0.0230,  0.0075,  0.0144, -0.0150,  0.0302, -0.0203,\n",
            "          0.0000,  0.0000,  0.0000,  0.0000,  0.0000,  0.0000,  0.0000,  0.0000,\n",
            "          0.0000,  0.0000,  0.0000,  0.0000,  0.0000,  0.0000,  0.0000,  0.0000]],\n",
            "       device='cuda:0', grad_fn=<CopySlices>)\n",
            "Vpred : tensor([[ 0.1140, -0.0343,  0.1165, -0.0010,  0.0841, -0.0268,  0.1034,  0.0748,\n",
            "         -0.0670, -0.0062, -0.0378, -0.0768,  0.0239, -0.0309,  0.0391, -0.0283,\n",
            "          0.0602,  0.0091,  0.0515,  0.0004,  0.0359, -0.0368,  0.0469, -0.0444,\n",
            "          0.0000,  0.0000,  0.0000,  0.0000,  0.0000,  0.0000,  0.0000,  0.0000,\n",
            "          0.0000,  0.0000,  0.0000,  0.0000,  0.0000,  0.0000,  0.0000,  0.0000]],\n",
            "       device='cuda:0', grad_fn=<CopySlices>)\n",
            "Vpred : tensor([[ 0.0601, -0.0384,  0.0744,  0.0667,  0.0228, -0.0335,  0.0615,  0.0141,\n",
            "         -0.1484,  0.0168, -0.1149, -0.0251,  0.0091, -0.0277,  0.0195, -0.0081,\n",
            "          0.0428,  0.0358,  0.0535,  0.0170,  0.0205, -0.0316,  0.0198, -0.0284,\n",
            "          0.0000,  0.0000,  0.0000,  0.0000,  0.0000,  0.0000,  0.0000,  0.0000,\n",
            "          0.0000,  0.0000,  0.0000,  0.0000,  0.0000,  0.0000,  0.0000,  0.0000]],\n",
            "       device='cuda:0', grad_fn=<CopySlices>)\n",
            "Vpred : tensor([[ 0.0444, -0.0199,  0.0483,  0.0587,  0.0045, -0.0123,  0.0145, -0.0311,\n",
            "         -0.1637,  0.0117, -0.1284, -0.0030, -0.0056, -0.0244,  0.0021,  0.0066,\n",
            "          0.0261,  0.0391,  0.0392,  0.0263,  0.0057, -0.0245,  0.0005, -0.0145,\n",
            "          0.0000,  0.0000,  0.0000,  0.0000,  0.0000,  0.0000,  0.0000,  0.0000,\n",
            "          0.0000,  0.0000,  0.0000,  0.0000,  0.0000,  0.0000,  0.0000,  0.0000]],\n",
            "       device='cuda:0', grad_fn=<CopySlices>)\n",
            "Vpred : tensor([[ 0.0448, -0.0323,  0.0019,  0.0664, -0.0152, -0.0257,  0.0239, -0.0664,\n",
            "         -0.1088,  0.0124, -0.1145, -0.0171, -0.0086, -0.0317, -0.0073,  0.0094,\n",
            "          0.0161,  0.0320,  0.0254,  0.0194,  0.0008, -0.0257, -0.0075, -0.0174,\n",
            "          0.0000,  0.0000,  0.0000,  0.0000,  0.0000,  0.0000,  0.0000,  0.0000,\n",
            "          0.0000,  0.0000,  0.0000,  0.0000,  0.0000,  0.0000,  0.0000,  0.0000]],\n",
            "       device='cuda:0', grad_fn=<CopySlices>)\n",
            "Vpred : tensor([[ 0.0234, -0.0436, -0.0191,  0.0678, -0.0206, -0.0320,  0.0322, -0.0965,\n",
            "         -0.1084,  0.0090, -0.1322, -0.0340, -0.0185, -0.0317, -0.0167,  0.0195,\n",
            "          0.0043,  0.0390,  0.0140,  0.0265, -0.0084, -0.0206, -0.0181, -0.0112,\n",
            "          0.0000,  0.0000,  0.0000,  0.0000,  0.0000,  0.0000,  0.0000,  0.0000,\n",
            "          0.0000,  0.0000,  0.0000,  0.0000,  0.0000,  0.0000,  0.0000,  0.0000]],\n",
            "       device='cuda:0', grad_fn=<CopySlices>)\n"
          ]
        }
      ],
      "source": [
        "Xt_seq = Xt_seq.view((-1, lookback, 2*ROBOTS_NUM))\n",
        "\n",
        "for i in range(ROBOTS_NUM):\n",
        "  r = []\n",
        "  r_hist.append(r)\n",
        "\n",
        "robots_hist = torch.Tensor(NUM_STEPS, ROBOTS_NUM, 2)\n",
        "print(robots_hist.shape)\n",
        "\n",
        "for i in range(NUM_STEPS):\n",
        "  # get velocity\n",
        "  v_pred = model(Xt_seq)\n",
        "  if i % 100 == 0.0:\n",
        "    print(f\"Vpred : {v_pred}\")\n",
        "\n",
        "  # move robots\n",
        "  # v = v_pred.view(ROBOTS_NUM, 2)\n",
        "\n",
        "  # for j in range(2*ROBOTS_NUM):\n",
        "  Xt_new = Xt_seq[0, 0, :] + v_pred[0, :] * dt\n",
        "  Xt_new = Xt_new.unsqueeze(0)\n",
        "  Xt_new = Xt_new.unsqueeze(0)\n",
        "  # print(f\"Xt-new shape: {Xt_new.shape}\")\n",
        "  Xt_seq = torch.cat((Xt_new, Xt_seq[:, :-1, :]), dim=1)\n",
        "  # print(f\"Actual Xt_seq shape: {Xt_seq.shape}\")\n",
        "\n",
        "  xp = Xt_new.view(ROBOTS_NUM, 2)\n",
        "  for j in range(ROBOTS_NUM):\n",
        "    robots_hist[i, j, :] = xp[j, :]\n",
        "\n",
        "  # X_hist.append(Xt)\n",
        "\n",
        "\n",
        "\n"
      ]
    },
    {
      "cell_type": "code",
      "source": [
        "robots_hist[:, 0, :]"
      ],
      "metadata": {
        "id": "5Yb1cXjUTgiT",
        "colab": {
          "base_uri": "https://localhost:8080/"
        },
        "outputId": "4d94d291-e649-4df6-efec-e1d11f34b058"
      },
      "execution_count": 183,
      "outputs": [
        {
          "output_type": "execute_result",
          "data": {
            "text/plain": [
              "tensor([[-10.1553, -24.6274],\n",
              "        [ -9.9389, -24.4614],\n",
              "        [ -9.7231, -24.2952],\n",
              "        ...,\n",
              "        [ 25.2953, -11.4816],\n",
              "        [ 25.2903, -11.4936],\n",
              "        [ 25.2852, -11.5054]], grad_fn=<SliceBackward0>)"
            ]
          },
          "metadata": {},
          "execution_count": 183
        }
      ]
    },
    {
      "cell_type": "code",
      "source": [
        "for i in range(N_ROBOTS):\n",
        "  plt.plot(robots_hist[:, i, 0].cpu().detach().numpy(), robots_hist[:, i, 1].cpu().detach().numpy())\n",
        "\n",
        "  # for i in range(ROBOTS_NUM):\n",
        "  plt.scatter(robots_hist[-1, i, 0].cpu().detach().numpy(), robots_hist[-1, i, 1].cpu().detach().numpy())\n",
        "\n",
        "plt.plot(0.0, 0.0, '*')"
      ],
      "metadata": {
        "id": "Thl9KTJtPig-",
        "colab": {
          "base_uri": "https://localhost:8080/",
          "height": 447
        },
        "outputId": "dad38d63-93c6-4668-db77-4f71199774d8"
      },
      "execution_count": 184,
      "outputs": [
        {
          "output_type": "execute_result",
          "data": {
            "text/plain": [
              "[<matplotlib.lines.Line2D at 0x7f24f476f070>]"
            ]
          },
          "metadata": {},
          "execution_count": 184
        },
        {
          "output_type": "display_data",
          "data": {
            "text/plain": [
              "<Figure size 640x480 with 1 Axes>"
            ],
            "image/png": "[encoded data removed]"
          },
          "metadata": {}
        }
      ]
    },
    {
      "cell_type": "markdown",
      "source": [
        "## Plot final position"
      ],
      "metadata": {
        "id": "mI-smGDZaN_P"
      }
    },
    {
      "cell_type": "code",
      "source": [
        "for i in range(N_ROBOTS):\n",
        "  plt.scatter(robots_hist[-1, i, 0].cpu().detach().numpy(), robots_hist[-1, i, 1].cpu().detach().numpy())\n",
        "\n",
        "plt.plot(0.0, 0.0, '*')"
      ],
      "metadata": {
        "id": "_JYL7wMaaPJL",
        "colab": {
          "base_uri": "https://localhost:8080/",
          "height": 447
        },
        "outputId": "577eef71-9961-439a-a008-6d863e48bc8c"
      },
      "execution_count": 185,
      "outputs": [
        {
          "output_type": "execute_result",
          "data": {
            "text/plain": [
              "[<matplotlib.lines.Line2D at 0x7f24f47a1c60>]"
            ]
          },
          "metadata": {},
          "execution_count": 185
        },
        {
          "output_type": "display_data",
          "data": {
            "text/plain": [
              "<Figure size 640x480 with 1 Axes>"
            ],
            "image/png": "[encoded data removed]"
          },
          "metadata": {}
        }
      ]
    }
  ],
  "metadata": {
    "colab": {
      "provenance": [],
      "gpuType": "T4",
      "include_colab_link": true
    },
    "kernelspec": {
      "display_name": "Python 3",
      "name": "python3"
    },
    "language_info": {
      "name": "python"
    },
    "accelerator": "GPU"
  },
  "nbformat": 4,
  "nbformat_minor": 0
}